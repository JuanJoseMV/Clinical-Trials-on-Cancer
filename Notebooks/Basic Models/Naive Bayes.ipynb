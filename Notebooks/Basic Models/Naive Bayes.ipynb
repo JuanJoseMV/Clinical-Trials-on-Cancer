{
 "cells": [
  {
   "cell_type": "markdown",
   "metadata": {},
   "source": [
    "# Naive Bayes"
   ]
  },
  {
   "cell_type": "markdown",
   "metadata": {},
   "source": []
  },
  {
   "cell_type": "code",
   "execution_count": 1,
   "metadata": {},
   "outputs": [],
   "source": [
    "import numpy as np # linear algebra\n",
    "import pandas as pd # data processing, CSV file I/O (e.g. pd.read_csv)\n",
    "import matplotlib.pyplot as plt\n",
    "from sklearn import preprocessing # LabelEncoder\n",
    "from sklearn.preprocessing import MinMaxScaler # Escala los datos\n",
    "from sklearn.model_selection import train_test_split \n",
    "from sklearn.metrics import accuracy_score\n",
    "from sklearn.metrics import precision_score\n",
    "from sklearn.metrics import recall_score\n",
    "from sklearn.metrics import f1_score\n",
    "from sklearn.metrics import classification_report\n",
    "import scikitplot as skplt \n",
    "from string import ascii_uppercase \n",
    "# import seaborn as sns\n",
    "import qgrid\n",
    "import time\n",
    "#from sklearn.externals import joblib # Para guardar el modelo\n",
    "from sklearn.metrics import roc_curve\n",
    "from sklearn.metrics import roc_auc_score\n",
    "\n",
    "from mlxtend.feature_selection import SequentialFeatureSelector as SFS\n",
    "from mlxtend.plotting import plot_sequential_feature_selection as plot_sfs\n",
    "\n",
    "from scipy import stats #Para la moda\n",
    "\n",
    "\n",
    "## Naive Bayes\n",
    "from sklearn.naive_bayes import GaussianNB"
   ]
  },
  {
   "cell_type": "code",
   "execution_count": null,
   "metadata": {
    "scrolled": true
   },
   "outputs": [],
   "source": [
    "def loadCSV(pathSamples, pathMatrix):\n",
    "    df_loaded = pd.read_table(pathMatrix, sep=',')\n",
    "    data = pd.read_table(pathSamples, sep=',')\n",
    "    clin_trial_values = df_loaded.values\n",
    "    \n",
    "    Y = data['Eligible']\n",
    "    Y = Y.astype(int)\n",
    "    X = clin_trial_values[:, :]"
   ]
  },
  {
   "cell_type": "code",
   "execution_count": 4,
   "metadata": {},
   "outputs": [],
   "source": [
    "def classification_error(y_est, y_real):\n",
    "    err = 0\n",
    "    for y_e, y_r in zip(y_est, y_real):\n",
    "\n",
    "        if y_e != y_r:\n",
    "            err += 1\n",
    "\n",
    "    return err/np.size(y_est)"
   ]
  },
  {
   "cell_type": "code",
   "execution_count": 7,
   "metadata": {},
   "outputs": [],
   "source": [
    "def plot_roc(Xtest, Ytest, probs, xlabel):\n",
    "    ns_probs = [0 for _ in range(len(Ytest))]\n",
    "    \n",
    "    probs = probs[:, 1]\n",
    "    ns_auc = roc_auc_score(Ytest, ns_probs)\n",
    "    auc = roc_auc_score(Ytest, probs)  \n",
    "\n",
    "    print('No Skill: ROC AUC=%.3f' % (ns_auc))\n",
    "    print('Logistic: ROC AUC=%.3f' % (auc))\n",
    "\n",
    "    ns_fpr, ns_tpr, _ = roc_curve(Ytest, ns_probs)\n",
    "    fpr, tpr, _ = roc_curve(Ytest, probs)   \n",
    "\n",
    "    plt.plot(ns_fpr, ns_tpr, linestyle='--', label='No Skill')\n",
    "    plt.plot(fpr, tpr, marker='.', label= xlabel)\n",
    "\n",
    "    # axis labels\n",
    "    plt.xlabel('False Positive Rate')\n",
    "    plt.ylabel('True Positive Rate')\n",
    "    # show the legend\n",
    "    plt.legend()\n",
    "    # show the plot\n",
    "    plt.show()"
   ]
  },
  {
   "cell_type": "code",
   "execution_count": 5,
   "metadata": {},
   "outputs": [],
   "source": [
    "def model_NB(impresion = False):\n",
    "\n",
    "    tiempo_i = time.time()\n",
    "    accuracy_list_train = np.zeros([10])\n",
    "    accuracy_list = np.zeros([10])\n",
    "    precision_list = np.zeros([10,2])\n",
    "    recall_list = np.zeros([10,2])\n",
    "    f_list = np.zeros([10,2]) \n",
    "    errores = np.zeros(10)\n",
    "    nb = GaussianNB()\n",
    "    list_acc_mean = []\n",
    "    list_acc_train_mean = []\n",
    "    list_acc_std = []\n",
    "    list_acc_train_std = []\n",
    "    list_percentage = [0.05,0.10,0.15,0.20,0.25,0.3]\n",
    "    \n",
    "    for i in list_percentage:\n",
    "        for j in range(10):\n",
    "            Xtrain, Xtest, Ytrain, Ytest = train_test_split(X, Y, test_size=i) # Modificar metodología de validación\n",
    "            scaler = MinMaxScaler()#Escala entre 0 y 1\n",
    "            Xtrain = scaler.fit_transform(Xtrain)\n",
    "            Xtest = scaler.transform(Xtest)\n",
    "\n",
    "            nb.fit(Xtrain, Ytrain)\n",
    "            pred = nb.predict(Xtest)\n",
    "            pred_train = nb.predict(Xtrain)\n",
    "\n",
    "            #code for calculating accuracy \n",
    "            _accuracy_ = accuracy_score(Ytest, pred, normalize=True)\n",
    "            accuracy_list[j] = _accuracy_\n",
    "        \n",
    "            _accuracy_train_ = accuracy_score(Ytrain, pred_train, normalize=True)\n",
    "            accuracy_list_train[j] = _accuracy_train_     \n",
    "\n",
    "            #code for calculating recall \n",
    "            _recalls_ = recall_score(Ytest, pred, average=None)\n",
    "            recall_list[j] = _recalls_\n",
    "\n",
    "            #code for calculating precision \n",
    "            _precisions_ = precision_score(Ytest, pred, average=None)\n",
    "            precision_list[j] = _precisions_\n",
    "\n",
    "            _f_score_ = f1_score(Ytest, pred, average=None)\n",
    "            f_list[j] = _f_score_\n",
    "\n",
    "            errores[j] = classification_error(pred, Ytest)\n",
    "            print(i, j)\n",
    "            \n",
    "        list_acc_mean.append(np.mean(accuracy_list))\n",
    "        list_acc_std.append(np.std(accuracy_list))\n",
    "        list_acc_train_mean.append(np.mean(accuracy_list_train))\n",
    "        list_acc_train_std.append(np.std(accuracy_list_train))\n",
    "          \n",
    "    if impresion == True:\n",
    "        \n",
    "        x = [10000-(i* 10000) for i in list_percentage]\n",
    "        sneg = [m-s for m,s in zip(list_acc_mean,list_acc_std)]\n",
    "        spos = [m+s for m,s in zip(list_acc_mean,list_acc_std)]\n",
    "        \n",
    "        sneg_train = [m-s for m,s in zip(list_acc_train_mean,list_acc_train_std)]\n",
    "        spos_train = [m+s for m,s in zip(list_acc_train_mean,list_acc_train_std)]\n",
    "        \n",
    "        fig1, ax1 = plt.subplots()\n",
    "        \n",
    "        ax1.fill_between(x,sneg_train,spos_train,alpha=.1)\n",
    "        ax1.plot(x, list_acc_train_mean, marker = 'v', label = \"train\")\n",
    "        ax1.fill_between(x,sneg,spos,alpha=.1)\n",
    "        ax1.plot(x, list_acc_mean, marker = 'p', label = \"test\")\n",
    "\n",
    "        ax1.set_xlabel(\"Número de muestras para train\")\n",
    "        ax1.set_ylabel(\"Accuracy\")\n",
    "\n",
    "        ax1.legend(loc=\"upper right\", title=\"Curva de aprendizaje\", frameon=False)\n",
    "        plt.show()\n",
    "            \n",
    "        #Curva ROC\n",
    "        nb_probs = nb.predict_proba(Xtest)\n",
    "        \n",
    "        plot_roc(Xtest, Ytest, nb_probs, \"Naive Bayes\")\n",
    "        skplt.metrics.plot_confusion_matrix(Ytest, pred, normalize=True)\n",
    "\n",
    "    return str(np.mean(accuracy_list)), str(np.std(accuracy_list)), str(np.mean(recall_list)), str(np.std(recall_list)), str(np.mean(precision_list)), str(np.std(precision_list)),  str(np.mean(f_list)), str(np.std(f_list)), str(np.mean(errores)), str(np.std(errores)), str(time.time()-tiempo_i)"
   ]
  },
  {
   "cell_type": "markdown",
   "metadata": {},
   "source": [
    "## LSA, 10k, Sin caracteres especiales"
   ]
  },
  {
   "cell_type": "code",
   "execution_count": null,
   "metadata": {},
   "outputs": [],
   "source": [
    "loadCSV(\"../../Dataset/10k_1Col_NoCarEsp_LSA.csv\", \"../../Tables/docsTopicsLSA1200.csv\") #Cargar SCV"
   ]
  },
  {
   "cell_type": "code",
   "execution_count": 8,
   "metadata": {},
   "outputs": [
    {
     "name": "stdout",
     "output_type": "stream",
     "text": [
      "0.05 0\n",
      "0.05 1\n",
      "0.05 2\n",
      "0.05 3\n",
      "0.05 4\n",
      "0.05 5\n",
      "0.05 6\n",
      "0.05 7\n",
      "0.05 8\n",
      "0.05 9\n",
      "0.1 0\n",
      "0.1 1\n",
      "0.1 2\n",
      "0.1 3\n",
      "0.1 4\n",
      "0.1 5\n",
      "0.1 6\n",
      "0.1 7\n",
      "0.1 8\n",
      "0.1 9\n",
      "0.15 0\n",
      "0.15 1\n",
      "0.15 2\n",
      "0.15 3\n",
      "0.15 4\n",
      "0.15 5\n",
      "0.15 6\n",
      "0.15 7\n",
      "0.15 8\n",
      "0.15 9\n",
      "0.2 0\n",
      "0.2 1\n",
      "0.2 2\n",
      "0.2 3\n",
      "0.2 4\n",
      "0.2 5\n",
      "0.2 6\n",
      "0.2 7\n",
      "0.2 8\n",
      "0.2 9\n",
      "0.25 0\n",
      "0.25 1\n",
      "0.25 2\n",
      "0.25 3\n",
      "0.25 4\n",
      "0.25 5\n",
      "0.25 6\n",
      "0.25 7\n",
      "0.25 8\n",
      "0.25 9\n",
      "0.3 0\n",
      "0.3 1\n",
      "0.3 2\n",
      "0.3 3\n",
      "0.3 4\n",
      "0.3 5\n",
      "0.3 6\n",
      "0.3 7\n",
      "0.3 8\n",
      "0.3 9\n"
     ]
    },
    {
     "data": {
      "image/png": "[encoded data removed]",
      "text/plain": [
       "<Figure size 432x288 with 1 Axes>"
      ]
     },
     "metadata": {
      "needs_background": "light"
     },
     "output_type": "display_data"
    },
    {
     "name": "stdout",
     "output_type": "stream",
     "text": [
      "No Skill: ROC AUC=0.500\n",
      "Logistic: ROC AUC=0.685\n"
     ]
    },
    {
     "data": {
      "image/png": "[encoded data removed]",
      "text/plain": [
       "<Figure size 432x288 with 1 Axes>"
      ]
     },
     "metadata": {
      "needs_background": "light"
     },
     "output_type": "display_data"
    },
    {
     "name": "stdout",
     "output_type": "stream",
     "text": [
      "Accuracy 0.6515666666666665  Int_Accuracy 0.027148582938259506  Sensibility 0.6515268269162582  Int_Sensibility 0.11976582580470828  Precision 0.6597972297720134  Int_Precision 0.043793097719226556  F-Score 0.6465887714965731  Int_F-Score 0.051537775863006924  Error 0.34843333333333326  Int_Error 0.02714858293825951  Execution time 78.28215885162354\n"
     ]
    },
    {
     "data": {
      "image/png": "[encoded data removed]",
      "text/plain": [
       "<Figure size 432x288 with 2 Axes>"
      ]
     },
     "metadata": {
      "needs_background": "light"
     },
     "output_type": "display_data"
    }
   ],
   "source": [
    "# Llamar función con el mejor modelo\n",
    "Acc, IntAcc, Sen, IntSen, Pre, IntPre, f, IntF, error, stdError, tiempo = model_NB(impresion = True)\n",
    "print('Accuracy',Acc, ' Int_Accuracy', IntAcc,' Sensibility', Sen, ' Int_Sensibility',IntSen,' Precision', Pre, ' Int_Precision',IntPre,' F-Score', f, ' Int_F-Score',IntF,' Error', error,' Int_Error', stdError,' Execution time', tiempo)"
   ]
  }
 ],
 "metadata": {
  "kernelspec": {
   "display_name": "Python 3",
   "language": "python",
   "name": "python3"
  },
  "language_info": {
   "codemirror_mode": {
    "name": "ipython",
    "version": 3
   },
   "file_extension": ".py",
   "mimetype": "text/x-python",
   "name": "python",
   "nbconvert_exporter": "python",
   "pygments_lexer": "ipython3",
   "version": "3.7.4"
  }
 },
 "nbformat": 4,
 "nbformat_minor": 2
}
