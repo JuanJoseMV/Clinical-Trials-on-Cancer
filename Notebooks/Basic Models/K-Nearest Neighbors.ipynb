{
 "cells": [
  {
   "cell_type": "markdown",
   "metadata": {},
   "source": [
    "# K-Nearest Neighbors"
   ]
  },
  {
   "cell_type": "markdown",
   "metadata": {},
   "source": []
  },
  {
   "cell_type": "code",
   "execution_count": 1,
   "metadata": {
    "scrolled": true
   },
   "outputs": [],
   "source": [
    "import numpy as np # linear algebra\n",
    "import pandas as pd # data processing, CSV file I/O (e.g. pd.read_csv)\n",
    "import matplotlib.pyplot as plt\n",
    "from sklearn import preprocessing # LabelEncoder\n",
    "from sklearn.preprocessing import MinMaxScaler # Escala los datos\n",
    "from sklearn.model_selection import train_test_split \n",
    "from sklearn.metrics import accuracy_score\n",
    "from sklearn.metrics import precision_score\n",
    "from sklearn.metrics import recall_score\n",
    "from sklearn.metrics import f1_score, make_scorer\n",
    "from sklearn.metrics import classification_report\n",
    "from sklearn.model_selection import learning_curve\n",
    "from sklearn.model_selection import ShuffleSplit\n",
    "import scikitplot as skplt \n",
    "from string import ascii_uppercase \n",
    "# import seaborn as sns\n",
    "import qgrid\n",
    "import time\n",
    "#from sklearn.externals import joblib # Para guardar el modelo\n",
    "from sklearn.metrics import roc_curve\n",
    "from sklearn.metrics import roc_auc_score\n",
    "\n",
    "import joblib\n",
    "from scipy import stats #Para la moda\n",
    "\n",
    "from sklearn.neighbors import KNeighborsClassifier\n",
    "## Gráfica tabla\n",
    "from tempfile import TemporaryDirectory\n",
    "\n",
    "from sklearn.neighbors import KNeighborsTransformer\n",
    "from sklearn.model_selection import GridSearchCV\n",
    "from sklearn.pipeline import Pipeline\n",
    "from sklearn.model_selection import validation_curve\n",
    "from sklearn.model_selection import StratifiedKFold"
   ]
  },
  {
   "cell_type": "code",
   "execution_count": null,
   "metadata": {},
   "outputs": [],
   "source": [
    "def loadModel(path):    \n",
    "    clf = joblib.load(path)\n",
    "    \n",
    "    return clf;"
   ]
  },
  {
   "cell_type": "code",
   "execution_count": null,
   "metadata": {},
   "outputs": [],
   "source": [
    "def saveModel(clf, name):\n",
    "    path = \"../../Models/\" + name + \".pkl\"\n",
    "    joblib.dump(clf, \"model.pkl\") "
   ]
  },
  {
   "cell_type": "code",
   "execution_count": 2,
   "metadata": {},
   "outputs": [],
   "source": [
    "def loadCSV(pathSamples, pathMatrix):\n",
    "    df_loaded = pd.read_table(pathMatrix, sep=',')\n",
    "    data = pd.read_table(pathSamples, sep=',')\n",
    "    clin_trial_values = df_loaded.values\n",
    "    \n",
    "    Y = data['Eligible']\n",
    "    Y = Y.astype(int)\n",
    "    X = clin_trial_values[:, :]\n",
    "    return X, Y"
   ]
  },
  {
   "cell_type": "code",
   "execution_count": 3,
   "metadata": {},
   "outputs": [],
   "source": [
    "def plot_roc(Xtest, Ytest, probs, xlabel):\n",
    "    ns_probs = [0 for _ in range(len(Ytest))]\n",
    "    \n",
    "    probs = probs[:, 1]\n",
    "    ns_auc = roc_auc_score(Ytest, ns_probs)\n",
    "    auc = roc_auc_score(Ytest, probs)  \n",
    "\n",
    "    print('No Skill: ROC AUC=%.3f' % (ns_auc))\n",
    "    print('Logistic: ROC AUC=%.3f' % (auc))\n",
    "\n",
    "    ns_fpr, ns_tpr, _ = roc_curve(Ytest, ns_probs)\n",
    "    fpr, tpr, _ = roc_curve(Ytest, probs)   \n",
    "\n",
    "    plt.plot(ns_fpr, ns_tpr, linestyle='--', label='No Skill')\n",
    "    plt.plot(fpr, tpr, marker='.', label= xlabel)\n",
    "\n",
    "    # axis labels\n",
    "    plt.xlabel('False Positive Rate')\n",
    "    plt.ylabel('True Positive Rate')\n",
    "    # show the legend\n",
    "    plt.legend()\n",
    "    plt.tight_layout()\n",
    "    # show the plot\n",
    "    plt.show()"
   ]
  },
  {
   "cell_type": "code",
   "execution_count": 4,
   "metadata": {},
   "outputs": [],
   "source": [
    "def plot_learning_curve(estimator, title, X, y, axes=None, ylim=None, cv=None,\n",
    "                        n_jobs=-1, train_sizes=np.linspace(.1, 1.0, 5)):\n",
    "    \"\"\"\n",
    "    Generate 3 plots: the test and training learning curve, the training\n",
    "    samples vs fit times curve, the fit times vs score curve.\n",
    "\n",
    "    Parameters\n",
    "    ----------\n",
    "    estimator : object type that implements the \"fit\" and \"predict\" methods\n",
    "        An object of that type which is cloned for each validation.\n",
    "\n",
    "    title : string\n",
    "        Title for the chart.\n",
    "\n",
    "    X : array-like, shape (n_samples, n_features)\n",
    "        Training vector, where n_samples is the number of samples and\n",
    "        n_features is the number of features.\n",
    "\n",
    "    y : array-like, shape (n_samples) or (n_samples, n_features), optional\n",
    "        Target relative to X for classification or regression;\n",
    "        None for unsupervised learning.\n",
    "\n",
    "    axes : array of 3 axes, optional (default=None)\n",
    "        Axes to use for plotting the curves.\n",
    "\n",
    "    ylim : tuple, shape (ymin, ymax), optional\n",
    "        Defines minimum and maximum yvalues plotted.\n",
    "\n",
    "    cv : int, cross-validation generator or an iterable, optional\n",
    "        Determines the cross-validation splitting strategy.\n",
    "        Possible inputs for cv are:\n",
    "\n",
    "          - None, to use the default 5-fold cross-validation,\n",
    "          - integer, to specify the number of folds.\n",
    "          - :term:`CV splitter`,\n",
    "          - An iterable yielding (train, test) splits as arrays of indices.\n",
    "\n",
    "        For integer/None inputs, if ``y`` is binary or multiclass,\n",
    "        :class:`StratifiedKFold` used. If the estimator is not a classifier\n",
    "        or if ``y`` is neither binary nor multiclass, :class:`KFold` is used.\n",
    "\n",
    "        Refer :ref:`User Guide <cross_validation>` for the various\n",
    "        cross-validators that can be used here.\n",
    "\n",
    "    n_jobs : int or None, optional (default=None)\n",
    "        Number of jobs to run in parallel.\n",
    "        ``None`` means 1 unless in a :obj:`joblib.parallel_backend` context.\n",
    "        ``-1`` means using all processors. See :term:`Glossary <n_jobs>`\n",
    "        for more details.\n",
    "\n",
    "    train_sizes : array-like, shape (n_ticks,), dtype float or int\n",
    "        Relative or absolute numbers of training examples that will be used to\n",
    "        generate the learning curve. If the dtype is float, it is regarded as a\n",
    "        fraction of the maximum size of the training set (that is determined\n",
    "        by the selected validation method), i.e. it has to be within (0, 1].\n",
    "        Otherwise it is interpreted as absolute sizes of the training sets.\n",
    "        Note that for classification the number of samples usually have to\n",
    "        be big enough to contain at least one sample from each class.\n",
    "        (default: np.linspace(0.1, 1.0, 5))\n",
    "    \"\"\"\n",
    "    if axes is None:\n",
    "        _, axes = plt.subplots(1, 3, figsize=(20, 5))\n",
    "\n",
    "    axes[0].set_title(title)\n",
    "    if ylim is not None:\n",
    "        axes[0].set_ylim(*ylim)\n",
    "    axes[0].set_xlabel(\"Training examples\")\n",
    "    axes[0].set_ylabel(\"Score\")\n",
    "\n",
    "    train_sizes, train_scores, test_scores, fit_times, _ = \\\n",
    "        learning_curve(estimator, X, y, cv=cv, n_jobs=n_jobs,\n",
    "                       train_sizes=train_sizes,\n",
    "                       return_times=True, scoring='f1')\n",
    "    train_scores_mean = np.mean(train_scores, axis=1)\n",
    "    train_scores_std = np.std(train_scores, axis=1)\n",
    "    test_scores_mean = np.mean(test_scores, axis=1)\n",
    "    test_scores_std = np.std(test_scores, axis=1)\n",
    "    fit_times_mean = np.mean(fit_times, axis=1)\n",
    "    fit_times_std = np.std(fit_times, axis=1)\n",
    "\n",
    "    # Plot learning curve\n",
    "    axes[0].grid()\n",
    "    axes[0].fill_between(train_sizes, train_scores_mean - train_scores_std,\n",
    "                         train_scores_mean + train_scores_std, alpha=0.1,\n",
    "                         color=\"r\")\n",
    "    axes[0].fill_between(train_sizes, test_scores_mean - test_scores_std,\n",
    "                         test_scores_mean + test_scores_std, alpha=0.1,\n",
    "                         color=\"g\")\n",
    "    axes[0].plot(train_sizes, train_scores_mean, 'o-', color=\"r\",\n",
    "                 label=\"Training score\")\n",
    "    axes[0].plot(train_sizes, test_scores_mean, 'o-', color=\"g\",\n",
    "                 label=\"Cross-validation score\")\n",
    "    axes[0].legend(loc=\"best\")\n",
    "\n",
    "    # Plot n_samples vs fit_times\n",
    "    axes[1].grid()\n",
    "    axes[1].plot(train_sizes, fit_times_mean, 'o-')\n",
    "    axes[1].fill_between(train_sizes, fit_times_mean - fit_times_std,\n",
    "                         fit_times_mean + fit_times_std, alpha=0.1)\n",
    "    axes[1].set_xlabel(\"Training examples\")\n",
    "    axes[1].set_ylabel(\"fit_times\")\n",
    "    axes[1].set_title(\"Scalability of the model\")\n",
    "\n",
    "    # Plot fit_time vs score\n",
    "    axes[2].grid()\n",
    "    axes[2].plot(fit_times_mean, test_scores_mean, 'o-')\n",
    "    axes[2].fill_between(fit_times_mean, test_scores_mean - test_scores_std,\n",
    "                         test_scores_mean + test_scores_std, alpha=0.1)\n",
    "    axes[2].set_xlabel(\"fit_times\")\n",
    "    axes[2].set_ylabel(\"Score\")\n",
    "    axes[2].set_title(\"Performance of the model\")\n",
    "\n",
    "    return plt"
   ]
  },
  {
   "cell_type": "code",
   "execution_count": 5,
   "metadata": {},
   "outputs": [],
   "source": [
    "# F1\n",
    "def model_KNN(k, impresion = True):\n",
    "    if classifier is not None:\n",
    "        KNN = KNeighborsClassifier(k)\n",
    "    else:\n",
    "        KNN = classifier\n",
    "        \n",
    "    tiempo_i = time.time()\n",
    "    \n",
    "    accuracy_list = np.zeros([5,2])\n",
    "    accuracy_list_train = np.zeros([5,2])\n",
    "    precision_list = np.zeros([5,2])\n",
    "    precision_list_train = np.zeros([5,2])\n",
    "    recall_list = np.zeros([5,2])\n",
    "    recall_list_train = np.zeros([5,2])\n",
    "    error = np.zeros([5,2])\n",
    "    error_train = np.zeros([5,2])\n",
    "    f_list = np.zeros([5,2]) \n",
    "    f1_train = np.zeros([5,2])\n",
    "    \n",
    "    skf = StratifiedKFold(n_splits=5)\n",
    "    \n",
    "    for i, indexes in enumerate(skf.split(X, Y)):\n",
    "        #Xtrain, Xtest, Ytrain, Ytest = train_test_split(X, Y, test_size=.2) # Modificar metodología de validación\n",
    "        #scaler = MinMaxScaler() #Escala entre 0 y 1\n",
    "        #Xtrain = scaler.fit_transform(Xtrain)\n",
    "        #Xtest = scaler.transform(Xtest)\n",
    "        \n",
    "        Xtrain, Xtest = X[indexes[0]], X[indexes[1]]\n",
    "        Ytrain, Ytest = Y[indexes[0]], Y[indexes[1]]\n",
    "\n",
    "        if classifier is not None:\n",
    "            KNN.fit(Xtrain, Ytrain)\n",
    "        \n",
    "        pred = KNN.predict(Xtest)\n",
    "        pred_train = KNN.predict(Xtrain)\n",
    "        \n",
    "        # accuracy\n",
    "        _accuracy_ = accuracy_score(Ytest, pred, normalize=True)\n",
    "        accuracy_list[i] = _accuracy_\n",
    "\n",
    "        _accuracy_train_ = accuracy_score(Ytrain, pred_train, normalize=True)\n",
    "        accuracy_list_train[i] = _accuracy_train_\n",
    "\n",
    "        # recall \n",
    "        _recalls_ = recall_score(Ytest, pred, average=None)\n",
    "        recall_list[i] = _recalls_\n",
    "        \n",
    "        _recalls_train_ = accuracy_score(Ytrain, pred_train, normalize=True)\n",
    "        recall_list_train[i] = _recalls_train_\n",
    "\n",
    "        # precision \n",
    "        _precisions_ = precision_score(Ytest, pred, average=None)\n",
    "        precision_list[i] = _precisions_\n",
    "        \n",
    "        _precisions_train_ = precision_score(Ytrain, pred_train, average=None)\n",
    "        precision_list_train[i] = _precisions_train_\n",
    "        \n",
    "        # f1\n",
    "        _f_score_ = f1_score(Ytest, pred, average=None)\n",
    "        f_list[i] = _f_score_\n",
    "        \n",
    "        _f_score_train = f1_score(Ytrain, pred_train, average=None)\n",
    "        f1_train[i] = _f_score_train\n",
    "          \n",
    "    if impresion:    \n",
    "        #Curva ROC\n",
    "        KNN_probs = KNN.predict_proba(Xtest)\n",
    "        plot_roc(Xtest, Ytest, KNN_probs, \"KNN\")\n",
    "\n",
    "        # Matriz Confusion\n",
    "        skplt.metrics.plot_confusion_matrix(Ytest, pred, normalize=True)\n",
    "        \n",
    "        report = {\n",
    "            'f1':[np.around(np.mean(f1_train), decimals=5), np.around(np.std(f1_train), decimals=5), np.around(np.mean(f_list), decimals=5), np.around(np.std(f_list), decimals=5)],\n",
    "            'accuracy':[np.around(np.mean(accuracy_list_train), decimals=5), np.around(np.std(accuracy_list_train), decimals=5), np.around(np.mean(accuracy_list), decimals=5), np.around(np.std(accuracy_list), decimals=5)],\n",
    "            'precision':[np.around(np.mean(precision_list_train), decimals=5), np.around(np.std(precision_list_train), decimals=5), np.around(np.mean(precision_list), decimals=5), np.around(np.std(precision_list), decimals=5)],\n",
    "            'recall':[np.around(np.mean(recall_list_train), decimals=5), np.around(np.std(recall_list_train), decimals=5), np.around(np.mean(recall_list), decimals=5), np.around(np.std(recall_list), decimals=5)]\n",
    "        }\n",
    "\n",
    "        print(pd.DataFrame.from_dict(report, orient='index', columns=['Training score', '+/-', 'Test score', '+/-']))\n",
    "\n",
    "        print(\"Total time:\", time.time()-tiempo_i)\n",
    "\n",
    "    return np.mean(f1_train), np.std(f1_train), np.mean(f_list), np.std(f_list), time.time()-tiempo_i;"
   ]
  },
  {
   "cell_type": "code",
   "execution_count": 6,
   "metadata": {},
   "outputs": [],
   "source": [
    "def grid_search():\n",
    "    parameters = {'K':[1,2,3,4,5,6,7,8,9,10,11,12,13,14,15,16,17,18,19,20], 'metric':['euclidean','minkowski','mahalanobis']}\n",
    "    KNN = KNeighborsClassifier(n_neighbors=k, metric=distance)\n",
    "    clf = GridSearchCV(LR, parameters, scoring='f1', n_jobs=-1, return_train_score=True)\n",
    "    clf.fit(X,Y)\n",
    "    \n",
    "    # Get Test Scores Mean and std for each grid search\n",
    "    scores_mean = clf.cv_results_['mean_test_score']\n",
    "    scores_mean = np.array(scores_mean).reshape(len(parameters['metric']),len(parameters['K']))\n",
    "\n",
    "    scores_sd = clf.cv_results_['std_test_score']\n",
    "    scores_sd = np.array(scores_sd).reshape(len(parameters['metric']),len(parameters['K']))\n",
    "\n",
    "    # Plot Grid search scores\n",
    "    _, ax = plt.subplots(1,1, figsize=(20, 10))\n",
    "\n",
    "    # Param1 is the X-axis, Param 2 is represented as a different curve (color line)\n",
    "    for idx, val in enumerate(parameters['metric']):\n",
    "        ax.plot(parameters['K'], scores_mean[idx,:], '-o', label= 'metric' + ': ' + str(val))\n",
    "\n",
    "    ax.set_title(\"Grid Search Scores\", fontsize=20, fontweight='bold')\n",
    "    ax.set_xlabel('K', fontsize=16)\n",
    "    ax.set_ylabel('CV Average Score', fontsize=16)\n",
    "    ax.legend(loc=\"best\", fontsize=15)\n",
    "    ax.grid('on')\n",
    "    \n",
    "    return clf"
   ]
  },
  {
   "cell_type": "code",
   "execution_count": 7,
   "metadata": {},
   "outputs": [],
   "source": [
    "# https://scikit-learn.org/stable/auto_examples/model_selection/plot_validation_curve.html#sphx-glr-auto-examples-model-selection-plot-validation-curve-py\n",
    "def vc(param_name, param_range, k=5, distance='minkowski'):\n",
    "    KNN = KNeighborsClassifier(n_neighbors=k, metric=distance)\n",
    "    train_scores, test_scores = validation_curve(\n",
    "        KNN, X, Y, param_name=param_name, param_range=param_range,\n",
    "        scoring=\"f1\", n_jobs=1)\n",
    "    return train_scores, test_scores;"
   ]
  },
  {
   "cell_type": "code",
   "execution_count": 8,
   "metadata": {},
   "outputs": [],
   "source": [
    "def graph_params(n_neighbors_list=[1, 2, 3, 4, 5, 6, 7, 8, 9]):\n",
    "\n",
    "    # The transformer computes the nearest neighbors graph using the maximum number\n",
    "    # of neighbors necessary in the grid search. The classifier model filters the\n",
    "    # nearest neighbors graph as required by its own n_neighbors parameter.\n",
    "    graph_model = KNeighborsTransformer(n_neighbors=max(n_neighbors_list),\n",
    "                                        mode='distance')\n",
    "    classifier_model = KNeighborsClassifier(metric='precomputed')\n",
    "\n",
    "    # Note that we give `memory` a directory to cache the graph computation\n",
    "    # that will be used several times when tuning the hyperparameters of the\n",
    "    # classifier.\n",
    "    with TemporaryDirectory(prefix=\"sklearn_graph_cache_\") as tmpdir:\n",
    "        full_model = Pipeline(\n",
    "            steps=[('graph', graph_model), ('classifier', classifier_model)],\n",
    "            memory=tmpdir)\n",
    "\n",
    "        param_grid = {'classifier__n_neighbors': n_neighbors_list}\n",
    "        grid_model = GridSearchCV(full_model, param_grid, scoring='f1')\n",
    "        grid_model.fit(X, Y)\n",
    "\n",
    "    # Plot the results of the grid search.\n",
    "    fig, axes = plt.subplots(1, 2, figsize=(8, 4))\n",
    "    axes[0].errorbar(x=n_neighbors_list,\n",
    "                     y=grid_model.cv_results_['mean_test_score'],\n",
    "                     yerr=grid_model.cv_results_['std_test_score'])\n",
    "    axes[0].set(xlabel='n_neighbors', title='Classification accuracy')\n",
    "    axes[1].errorbar(x=n_neighbors_list, y=grid_model.cv_results_['mean_fit_time'],\n",
    "                     yerr=grid_model.cv_results_['std_fit_time'], color='r')\n",
    "    axes[1].set(xlabel='n_neighbors', title='Fit time (with caching)')\n",
    "    fig.tight_layout()\n",
    "    plt.show()"
   ]
  },
  {
   "cell_type": "markdown",
   "metadata": {},
   "source": [
    "# LSA 10k_1Col_NoCarEsp"
   ]
  },
  {
   "cell_type": "markdown",
   "metadata": {},
   "source": [
    "Latent Semantic Analysis con 10mil muestras. Uniendo las columnas \"Diagnoses\" e \"Interventions\". Eliminando todos los caracteres especiales y números de las muestras. Eliminando las 2 palabras que más aparecen y las que sólo aparecen 1-10 veces para hacer el LSA. 1200 tópicos."
   ]
  },
  {
   "cell_type": "code",
   "execution_count": 9,
   "metadata": {},
   "outputs": [],
   "source": [
    "X, Y = loadCSV(\"../../Dataset/10k_1Col_NoCarEsp_LSA.csv\", \"../../Tables/docsTopicsLSA1200.csv\") #Cargar SCV"
   ]
  },
  {
   "cell_type": "code",
   "execution_count": 35,
   "metadata": {},
   "outputs": [
    {
     "name": "stdout",
     "output_type": "stream",
     "text": [
      "iteración terminada: 1\n",
      "iteración terminada: 2\n",
      "iteración terminada: 3\n",
      "iteración terminada: 4\n",
      "iteración terminada: 5\n",
      "No Skill: ROC AUC=0.500\n",
      "Logistic: ROC AUC=0.777\n"
     ]
    },
    {
     "data": {
      "image/png": "[encoded data removed]",
      "text/plain": [
       "<Figure size 432x288 with 1 Axes>"
      ]
     },
     "metadata": {
      "needs_background": "light"
     },
     "output_type": "display_data"
    },
    {
     "name": "stdout",
     "output_type": "stream",
     "text": [
      "Average train F1 score: 0.7990053937999925 +/- 0.008566201374236571\n",
      "Average test F1 score: 0.6906568293294171 +/- 0.02454983808827262\n",
      "Total time: 1380.9763853549957\n"
     ]
    },
    {
     "data": {
      "image/png": "[encoded data removed]",
      "text/plain": [
       "<Figure size 432x288 with 2 Axes>"
      ]
     },
     "metadata": {
      "needs_background": "light"
     },
     "output_type": "display_data"
    }
   ],
   "source": [
    "a, b, c, d, e = model_KNN(7)"
   ]
  },
  {
   "cell_type": "code",
   "execution_count": 25,
   "metadata": {},
   "outputs": [
    {
     "name": "stdout",
     "output_type": "stream",
     "text": [
      "K: 0 , F1 score train: [0.9995     0.99962495 0.99937508 0.99949987 0.99975   ] . Score test: [0.69707842 0.69014085 0.66841553 0.69447341 0.67085296]\n",
      "K: 1 , F1 score train: [0.80364887 0.80721634 0.79915941 0.79135821 0.80113892] . Score test: [0.58631513 0.57950974 0.54789272 0.57307692 0.55876686]\n",
      "K: 2 , F1 score train: [0.85891434 0.84940521 0.85739864 0.85128597 0.85275681] . Score test: [0.69928644 0.7016632  0.65539112 0.69826707 0.67589143]\n",
      "K: 3 , F1 score train: [0.77220526 0.75225882 0.77207689 0.75956364 0.7648676 ] . Score test: [0.61770018 0.61807229 0.57856273 0.61658654 0.59462759]\n",
      "K: 4 , F1 score train: [0.82319805 0.79891093 0.8147482  0.81501409 0.79834647] . Score test: [0.69435897 0.69052632 0.66666667 0.69650206 0.67131367]\n",
      "K: 5 , F1 score train: [0.74931605 0.72461249 0.753677   0.74408602 0.72998407] . Score test: [0.63292612 0.61983471 0.5926373  0.63620387 0.59723058]\n",
      "K: 6 , F1 score train: [0.80091942 0.77524086 0.79727996 0.79830312 0.78421121] . Score test: [0.71508951 0.6787814  0.67650158 0.70284238 0.66485606]\n",
      "K: 7 , F1 score train: [0.74530984 0.71297776 0.74700831 0.73745228 0.72315728] . Score test: [0.64422519 0.60143198 0.60574107 0.65270506 0.58686311]\n",
      "K: 8 , F1 score train: [0.78615543 0.75987761 0.7823287  0.78141935 0.76880223] . Score test: [0.6880829  0.67061995 0.67714885 0.69606299 0.66812466]\n"
     ]
    }
   ],
   "source": [
    "train_scores, test_scores = vc(param_name='n_neighbors', param_range=[1,2,3,4,5,6,7,8,9])\n",
    "for i, scores in enumerate(zip(train_scores, test_scores)):\n",
    "    print('K:', i+1, ', F1 score train:', np.mean(scores[0]), '. Score test:', np.mean(scores[1]))"
   ]
  },
  {
   "cell_type": "code",
   "execution_count": 14,
   "metadata": {
    "scrolled": false
   },
   "outputs": [
    {
     "name": "stderr",
     "output_type": "stream",
     "text": [
      "C:\\Users\\Public\\Anaconda3\\lib\\site-packages\\sklearn\\pipeline.py:296: UserWarning: Persisting input arguments took 0.80s to run.\n",
      "If this happens often in your code, it can cause performance problems \n",
      "(results will be correct in all cases). \n",
      "The reason for this is probably some large input arguments for a wrapped\n",
      " function (e.g. large strings).\n",
      "THIS IS A JOBLIB ISSUE. If you can, kindly provide the joblib's team with an\n",
      " example so that they can fix the problem.\n",
      "  **fit_params_steps[name])\n",
      "C:\\Users\\Public\\Anaconda3\\lib\\site-packages\\sklearn\\pipeline.py:296: UserWarning: Persisting input arguments took 0.64s to run.\n",
      "If this happens often in your code, it can cause performance problems \n",
      "(results will be correct in all cases). \n",
      "The reason for this is probably some large input arguments for a wrapped\n",
      " function (e.g. large strings).\n",
      "THIS IS A JOBLIB ISSUE. If you can, kindly provide the joblib's team with an\n",
      " example so that they can fix the problem.\n",
      "  **fit_params_steps[name])\n",
      "C:\\Users\\Public\\Anaconda3\\lib\\site-packages\\sklearn\\pipeline.py:296: UserWarning: Persisting input arguments took 0.75s to run.\n",
      "If this happens often in your code, it can cause performance problems \n",
      "(results will be correct in all cases). \n",
      "The reason for this is probably some large input arguments for a wrapped\n",
      " function (e.g. large strings).\n",
      "THIS IS A JOBLIB ISSUE. If you can, kindly provide the joblib's team with an\n",
      " example so that they can fix the problem.\n",
      "  **fit_params_steps[name])\n",
      "C:\\Users\\Public\\Anaconda3\\lib\\site-packages\\sklearn\\pipeline.py:296: UserWarning: Persisting input arguments took 1.38s to run.\n",
      "If this happens often in your code, it can cause performance problems \n",
      "(results will be correct in all cases). \n",
      "The reason for this is probably some large input arguments for a wrapped\n",
      " function (e.g. large strings).\n",
      "THIS IS A JOBLIB ISSUE. If you can, kindly provide the joblib's team with an\n",
      " example so that they can fix the problem.\n",
      "  **fit_params_steps[name])\n"
     ]
    },
    {
     "data": {
      "image/png": "[encoded data removed]",
      "text/plain": [
       "<Figure size 576x288 with 2 Axes>"
      ]
     },
     "metadata": {
      "needs_background": "light"
     },
     "output_type": "display_data"
    }
   ],
   "source": [
    "graph_params()"
   ]
  },
  {
   "cell_type": "markdown",
   "metadata": {},
   "source": [
    "## LSA, 10k, sin caracteres especiales, 1500 Tópicos"
   ]
  },
  {
   "cell_type": "markdown",
   "metadata": {},
   "source": [
    "\n",
    "Latent Semantic Analysis con 10mil muestras. Uniendo las columnas \"Diagnoses\" e \"Interventions\". Eliminando todos los caracteres especiales y números de las muestras. 1500 tópicos."
   ]
  },
  {
   "cell_type": "code",
   "execution_count": 9,
   "metadata": {},
   "outputs": [],
   "source": [
    "X, Y = loadCSV(\"../../Dataset/10k_1Col_NoCarEsp_LSA.csv\", \"../../Tables/docsTopicsLSA1500.csv\") #Cargar SCV"
   ]
  },
  {
   "cell_type": "code",
   "execution_count": null,
   "metadata": {},
   "outputs": [],
   "source": [
    "clf = grid_search()\n",
    "clf.cv_results_\n",
    "saveModel(clf_rbf, \"RF_LSA_1500\") "
   ]
  }
 ],
 "metadata": {
  "kernelspec": {
   "display_name": "Python 3",
   "language": "python",
   "name": "python3"
  },
  "language_info": {
   "codemirror_mode": {
    "name": "ipython",
    "version": 3
   },
   "file_extension": ".py",
   "mimetype": "text/x-python",
   "name": "python",
   "nbconvert_exporter": "python",
   "pygments_lexer": "ipython3",
   "version": "3.7.4"
  }
 },
 "nbformat": 4,
 "nbformat_minor": 2
}
