{
 "cells": [
  {
   "cell_type": "markdown",
   "metadata": {},
   "source": [
    "# Multilayer Perceptron"
   ]
  },
  {
   "cell_type": "markdown",
   "metadata": {},
   "source": []
  },
  {
   "cell_type": "code",
   "execution_count": 2,
   "metadata": {},
   "outputs": [],
   "source": [
    "import numpy as np # linear algebra\n",
    "import pandas as pd # data processing, CSV file I/O (e.g. pd.read_csv)\n",
    "import matplotlib.pyplot as plt\n",
    "from sklearn import preprocessing # LabelEncoder\n",
    "from sklearn.preprocessing import MinMaxScaler # Escala los datos\n",
    "from sklearn.model_selection import train_test_split \n",
    "from sklearn.metrics import accuracy_score\n",
    "from sklearn.metrics import precision_score\n",
    "from sklearn.metrics import recall_score\n",
    "from sklearn.metrics import f1_score, make_scorer\n",
    "from sklearn.metrics import classification_report\n",
    "from sklearn.model_selection import learning_curve\n",
    "from sklearn.model_selection import ShuffleSplit\n",
    "from sklearn.model_selection import StratifiedKFold\n",
    "import scikitplot as skplt \n",
    "from string import ascii_uppercase \n",
    "# import seaborn as sns\n",
    "import qgrid\n",
    "import time\n",
    "#from sklearn.externals import joblib # Para guardar el modelo\n",
    "from sklearn.metrics import roc_curve\n",
    "from sklearn.metrics import roc_auc_score\n",
    "from scipy import stats #Para la moda\n",
    "## Gráfica tabla\n",
    "from tempfile import TemporaryDirectory\n",
    "\n",
    "import joblib\n",
    "\n",
    "from sklearn.model_selection import GridSearchCV\n",
    "from sklearn.pipeline import Pipeline\n",
    "from sklearn.linear_model import LogisticRegression\n",
    "from sklearn.model_selection import validation_curve\n",
    "\n",
    "from sklearn.neural_network import MLPClassifier"
   ]
  },
  {
   "cell_type": "code",
   "execution_count": 13,
   "metadata": {},
   "outputs": [],
   "source": [
    "def loadModel(name):    \n",
    "    path = \"../../Models/\" + name + \".pkl\"\n",
    "    clf = joblib.load(path)\n",
    "    \n",
    "    return clf;"
   ]
  },
  {
   "cell_type": "code",
   "execution_count": 4,
   "metadata": {},
   "outputs": [],
   "source": [
    "def saveModel(clf, name):\n",
    "    path = \"../../Models/\" + name + \".pkl\"\n",
    "    joblib.dump(clf, path) "
   ]
  },
  {
   "cell_type": "code",
   "execution_count": 5,
   "metadata": {},
   "outputs": [],
   "source": [
    "def loadCSV(pathSamples, pathMatrix):\n",
    "    df_loaded = pd.read_table(pathMatrix, sep=',')\n",
    "    data = pd.read_table(pathSamples, sep=',')\n",
    "    clin_trial_values = df_loaded.values\n",
    "    \n",
    "    Y = data['Eligible']\n",
    "    Y = Y.astype(int)\n",
    "    X = clin_trial_values[:, :]\n",
    "    \n",
    "    return X, Y;"
   ]
  },
  {
   "cell_type": "code",
   "execution_count": 6,
   "metadata": {},
   "outputs": [],
   "source": [
    "def loadHD5(name):\n",
    "    path = '../../Tables/'\n",
    "    path += name + '.h5'\n",
    "    return pd.read_hdf(path, 'df').values"
   ]
  },
  {
   "cell_type": "code",
   "execution_count": 7,
   "metadata": {},
   "outputs": [],
   "source": [
    "def plot_roc(Xtest, Ytest, probs, xlabel):\n",
    "    ns_probs = [0 for _ in range(len(Ytest))]\n",
    "    \n",
    "    probs = probs[:, 1]\n",
    "    ns_auc = roc_auc_score(Ytest, ns_probs)\n",
    "    auc = roc_auc_score(Ytest, probs)  \n",
    "\n",
    "    print('No Skill: ROC AUC=%.3f' % (ns_auc))\n",
    "    print('Logistic: ROC AUC=%.3f' % (auc))\n",
    "\n",
    "    ns_fpr, ns_tpr, _ = roc_curve(Ytest, ns_probs)\n",
    "    fpr, tpr, _ = roc_curve(Ytest, probs)   \n",
    "\n",
    "    plt.plot(ns_fpr, ns_tpr, linestyle='--', label='No Skill')\n",
    "    plt.plot(fpr, tpr, marker='.', label= xlabel)\n",
    "\n",
    "    # axis labels\n",
    "    plt.xlabel('False Positive Rate')\n",
    "    plt.ylabel('True Positive Rate')\n",
    "    # show the legend\n",
    "    plt.legend()\n",
    "    # show the plot\n",
    "    plt.show()"
   ]
  },
  {
   "cell_type": "code",
   "execution_count": 8,
   "metadata": {},
   "outputs": [],
   "source": [
    "def plot_learning_curve(estimator, title, X, y, axes=None, ylim=None, cv=None,\n",
    "                        n_jobs=-1, train_sizes=np.linspace(.1, 1.0, 5)):\n",
    "    \"\"\"\n",
    "    Generate 3 plots: the test and training learning curve, the training\n",
    "    samples vs fit times curve, the fit times vs score curve.\n",
    "\n",
    "    Parameters\n",
    "    ----------\n",
    "    estimator : object type that implements the \"fit\" and \"predict\" methods\n",
    "        An object of that type which is cloned for each validation.\n",
    "\n",
    "    title : string\n",
    "        Title for the chart.\n",
    "\n",
    "    X : array-like, shape (n_samples, n_features)\n",
    "        Training vector, where n_samples is the number of samples and\n",
    "        n_features is the number of features.\n",
    "\n",
    "    y : array-like, shape (n_samples) or (n_samples, n_features), optional\n",
    "        Target relative to X for classification or regression;\n",
    "        None for unsupervised learning.\n",
    "\n",
    "    axes : array of 3 axes, optional (default=None)\n",
    "        Axes to use for plotting the curves.\n",
    "\n",
    "    ylim : tuple, shape (ymin, ymax), optional\n",
    "        Defines minimum and maximum yvalues plotted.\n",
    "\n",
    "    cv : int, cross-validation generator or an iterable, optional\n",
    "        Determines the cross-validation splitting strategy.\n",
    "        Possible inputs for cv are:\n",
    "\n",
    "          - None, to use the default 5-fold cross-validation,\n",
    "          - integer, to specify the number of folds.\n",
    "          - :term:`CV splitter`,\n",
    "          - An iterable yielding (train, test) splits as arrays of indices.\n",
    "\n",
    "        For integer/None inputs, if ``y`` is binary or multiclass,\n",
    "        :class:`StratifiedKFold` used. If the estimator is not a classifier\n",
    "        or if ``y`` is neither binary nor multiclass, :class:`KFold` is used.\n",
    "\n",
    "        Refer :ref:`User Guide <cross_validation>` for the various\n",
    "        cross-validators that can be used here.\n",
    "\n",
    "    n_jobs : int or None, optional (default=None)\n",
    "        Number of jobs to run in parallel.\n",
    "        ``None`` means 1 unless in a :obj:`joblib.parallel_backend` context.\n",
    "        ``-1`` means using all processors. See :term:`Glossary <n_jobs>`\n",
    "        for more details.\n",
    "\n",
    "    train_sizes : array-like, shape (n_ticks,), dtype float or int\n",
    "        Relative or absolute numbers of training examples that will be used to\n",
    "        generate the learning curve. If the dtype is float, it is regarded as a\n",
    "        fraction of the maximum size of the training set (that is determined\n",
    "        by the selected validation method), i.e. it has to be within (0, 1].\n",
    "        Otherwise it is interpreted as absolute sizes of the training sets.\n",
    "        Note that for classification the number of samples usually have to\n",
    "        be big enough to contain at least one sample from each class.\n",
    "        (default: np.linspace(0.1, 1.0, 5))\n",
    "    \"\"\"\n",
    "    if axes is None:\n",
    "        _, axes = plt.subplots(1, 3, figsize=(20, 5))\n",
    "\n",
    "    axes[0].set_title(title)\n",
    "    if ylim is not None:\n",
    "        axes[0].set_ylim(*ylim)\n",
    "    axes[0].set_xlabel(\"Training examples\")\n",
    "    axes[0].set_ylabel(\"Score\")\n",
    "\n",
    "    train_sizes, train_scores, test_scores, fit_times, _ = \\\n",
    "        learning_curve(estimator, X, y, cv=cv, n_jobs=n_jobs,\n",
    "                       train_sizes=train_sizes, scoring='f1',\n",
    "                       return_times=True)\n",
    "    train_scores_mean = np.mean(train_scores, axis=1)\n",
    "    train_scores_std = np.std(train_scores, axis=1)\n",
    "    test_scores_mean = np.mean(test_scores, axis=1)\n",
    "    test_scores_std = np.std(test_scores, axis=1)\n",
    "    fit_times_mean = np.mean(fit_times, axis=1)\n",
    "    fit_times_std = np.std(fit_times, axis=1)\n",
    "\n",
    "    # Plot learning curve\n",
    "    axes[0].grid()\n",
    "    axes[0].fill_between(train_sizes, train_scores_mean - train_scores_std,\n",
    "                         train_scores_mean + train_scores_std, alpha=0.1,\n",
    "                         color=\"r\")\n",
    "    axes[0].fill_between(train_sizes, test_scores_mean - test_scores_std,\n",
    "                         test_scores_mean + test_scores_std, alpha=0.1,\n",
    "                         color=\"g\")\n",
    "    axes[0].plot(train_sizes, train_scores_mean, 'o-', color=\"r\",\n",
    "                 label=\"Training score\")\n",
    "    axes[0].plot(train_sizes, test_scores_mean, 'o-', color=\"g\",\n",
    "                 label=\"Cross-validation score\")\n",
    "    axes[0].legend(loc=\"best\")\n",
    "\n",
    "    # Plot n_samples vs fit_times\n",
    "    axes[1].grid()\n",
    "    axes[1].plot(train_sizes, fit_times_mean, 'o-')\n",
    "    axes[1].fill_between(train_sizes, fit_times_mean - fit_times_std,\n",
    "                         fit_times_mean + fit_times_std, alpha=0.1)\n",
    "    axes[1].set_xlabel(\"Training examples\")\n",
    "    axes[1].set_ylabel(\"fit_times\")\n",
    "    axes[1].set_title(\"Scalability of the model\")\n",
    "\n",
    "    # Plot fit_time vs score\n",
    "    axes[2].grid()\n",
    "    axes[2].plot(fit_times_mean, test_scores_mean, 'o-')\n",
    "    axes[2].fill_between(fit_times_mean, test_scores_mean - test_scores_std,\n",
    "                         test_scores_mean + test_scores_std, alpha=0.1)\n",
    "    axes[2].set_xlabel(\"fit_times\")\n",
    "    axes[2].set_ylabel(\"Score\")\n",
    "    axes[2].set_title(\"Performance of the model\")\n",
    "\n",
    "    return plt"
   ]
  },
  {
   "cell_type": "code",
   "execution_count": 9,
   "metadata": {},
   "outputs": [],
   "source": [
    "def model_MLP(nCO, nPC, activation='tanh', impresion=True, alpha=0.0001, classifier=None, solver='adam'):\n",
    "    if classifier is not None:\n",
    "        mlp = classifier\n",
    "    else:\n",
    "        if(nCO == 1):\n",
    "            mlp = MLPClassifier(activation=activation,max_iter = 1000,hidden_layer_sizes=(nPC), alpha=alpha, solver=solver)\n",
    "        else:\n",
    "            layers = tuple((nPC for i in range(nCO)))\n",
    "            mlp = MLPClassifier(activation=activation,max_iter = 1000,hidden_layer_sizes=layers, alpha=alpha, solver=solver)\n",
    "        \n",
    "    tiempo_i = time.time()\n",
    "    \n",
    "    accuracy_list = np.zeros([5,2])\n",
    "    accuracy_list_train = np.zeros([5,2])\n",
    "    precision_list = np.zeros([5,2])\n",
    "    precision_list_train = np.zeros([5,2])\n",
    "    recall_list = np.zeros([5,2])\n",
    "    recall_list_train = np.zeros([5,2])\n",
    "    error = np.zeros([5,2])\n",
    "    error_train = np.zeros([5,2])\n",
    "    f_list = np.zeros([5,2]) \n",
    "    f1_train = np.zeros([5,2])\n",
    "    \n",
    "    skf = StratifiedKFold(n_splits=5)\n",
    "    \n",
    "    for i, indexes in enumerate(skf.split(X, Y)):\n",
    "        #Xtrain, Xtest, Ytrain, Ytest = train_test_split(X, Y, test_size=.2) # Modificar metodología de validación\n",
    "        #scaler = MinMaxScaler() #Escala entre 0 y 1\n",
    "        #Xtrain = scaler.fit_transform(Xtrain)\n",
    "        #Xtest = scaler.transform(Xtest)\n",
    "        \n",
    "        Xtrain, Xtest = X[indexes[0]], X[indexes[1]]\n",
    "        Ytrain, Ytest = Y[indexes[0]], Y[indexes[1]]\n",
    "\n",
    "        #if classifier is None:\n",
    "        #    mlp.fit(Xtrain, Ytrain)\n",
    "        mlp.fit(Xtrain, Ytrain)    \n",
    "            \n",
    "        pred = mlp.predict(Xtest)\n",
    "        pred_train = mlp.predict(Xtrain)\n",
    "        \n",
    "        # accuracy\n",
    "        _accuracy_ = accuracy_score(Ytest, pred, normalize=True)\n",
    "        accuracy_list[i] = _accuracy_\n",
    "\n",
    "        _accuracy_train_ = accuracy_score(Ytrain, pred_train, normalize=True)\n",
    "        accuracy_list_train[i] = _accuracy_train_\n",
    "\n",
    "        # recall \n",
    "        _recalls_ = recall_score(Ytest, pred, average=None)\n",
    "        recall_list[i] = _recalls_\n",
    "        \n",
    "        _recalls_train_ = accuracy_score(Ytrain, pred_train, normalize=True)\n",
    "        recall_list_train[i] = _recalls_train_\n",
    "\n",
    "        # precision \n",
    "        _precisions_ = precision_score(Ytest, pred, average=None)\n",
    "        precision_list[i] = _precisions_\n",
    "        \n",
    "        _precisions_train_ = precision_score(Ytrain, pred_train, average=None)\n",
    "        precision_list_train[i] = _precisions_train_\n",
    "        \n",
    "        # f1\n",
    "        _f_score_ = f1_score(Ytest, pred, average=None)\n",
    "        f_list[i] = _f_score_\n",
    "        \n",
    "        _f_score_train = f1_score(Ytrain, pred_train, average=None)\n",
    "        f1_train[i] = _f_score_train\n",
    "        \n",
    "        # MAE\n",
    "          \n",
    "    if impresion:    \n",
    "        #Curva ROC\n",
    "        mlp_probs = mlp.predict_proba(Xtest)\n",
    "        plot_roc(Xtest, Ytest, mlp_probs, \"MLP\")\n",
    "\n",
    "        # Matriz Confusion\n",
    "        skplt.metrics.plot_confusion_matrix(Ytest, pred, normalize=True)\n",
    "        \n",
    "        report = {\n",
    "            'f1':[np.around(np.mean(f1_train), decimals=5), np.around(np.std(f1_train), decimals=5), np.around(np.mean(f_list), decimals=5), np.around(np.std(f_list), decimals=5)],\n",
    "            'accuracy':[np.around(np.mean(accuracy_list_train), decimals=5), np.around(np.std(accuracy_list_train), decimals=5), np.around(np.mean(accuracy_list), decimals=5), np.around(np.std(accuracy_list), decimals=5)],\n",
    "            'precision':[np.around(np.mean(precision_list_train), decimals=5), np.around(np.std(precision_list_train), decimals=5), np.around(np.mean(precision_list), decimals=5), np.around(np.std(precision_list), decimals=5)],\n",
    "            'recall':[np.around(np.mean(recall_list_train), decimals=5), np.around(np.std(recall_list_train), decimals=5), np.around(np.mean(recall_list), decimals=5), np.around(np.std(recall_list), decimals=5)]\n",
    "        }\n",
    "\n",
    "        print(pd.DataFrame.from_dict(report, orient='index', columns=['Training score', '+/-', 'Test score', '+/-']))\n",
    "\n",
    "        print(\"Total time:\", time.time()-tiempo_i)\n",
    "\n",
    "    return np.mean(f1_train), np.std(f1_train), np.mean(f_list), np.std(f_list), time.time()-tiempo_i;"
   ]
  },
  {
   "cell_type": "code",
   "execution_count": 10,
   "metadata": {},
   "outputs": [],
   "source": [
    "def grid_search(parameters):\n",
    "    mlp = MLPClassifier()\n",
    "    clf = GridSearchCV(mlp, parameters, scoring='f1', n_jobs=-1, return_train_score=True)\n",
    "    clf.fit(X,Y)\n",
    "    \n",
    "    return clf"
   ]
  },
  {
   "cell_type": "markdown",
   "metadata": {},
   "source": [
    "# LSA 10k_1Col_NoCarEsp"
   ]
  },
  {
   "cell_type": "code",
   "execution_count": null,
   "metadata": {},
   "outputs": [],
   "source": [
    "loadCSV(\"../../Dataset/10k_1Col_NoCarEsp_LSA.csv\", \"../../Tables/docsTopicsLSA1200.csv\") #Cargar SCV"
   ]
  },
  {
   "cell_type": "code",
   "execution_count": null,
   "metadata": {},
   "outputs": [],
   "source": [
    "model_MLP()"
   ]
  },
  {
   "cell_type": "code",
   "execution_count": null,
   "metadata": {},
   "outputs": [],
   "source": [
    "parameters = {'C':[.1, .5, 1], 'gamma':['auto', .1, .5, 1]}\n"
   ]
  },
  {
   "cell_type": "markdown",
   "metadata": {},
   "source": [
    "## LSA, 10k, sin caracteres especiales, 1500 Tópicos"
   ]
  },
  {
   "cell_type": "markdown",
   "metadata": {},
   "source": [
    "Latent Semantic Analysis con 10mil muestras. Uniendo las columnas \"Diagnoses\" e \"Interventions\". Eliminando todos los caracteres especiales y números de las muestras. 1500 tópicos."
   ]
  },
  {
   "cell_type": "code",
   "execution_count": 11,
   "metadata": {},
   "outputs": [],
   "source": [
    "X, Y = loadCSV(\"../../Dataset/10k_1Col_NoCarEsp_LSA.csv\", \"../../Tables/docsTopicsLSA1500.csv\") #Cargar SCV"
   ]
  },
  {
   "cell_type": "code",
   "execution_count": 18,
   "metadata": {},
   "outputs": [
    {
     "name": "stdout",
     "output_type": "stream",
     "text": [
      "No Skill: ROC AUC=0.500\n",
      "Logistic: ROC AUC=0.813\n"
     ]
    },
    {
     "data": {
      "image/png": "[encoded data removed]",
      "text/plain": [
       "<Figure size 432x288 with 1 Axes>"
      ]
     },
     "metadata": {
      "needs_background": "light"
     },
     "output_type": "display_data"
    },
    {
     "name": "stdout",
     "output_type": "stream",
     "text": [
      "           Training score      +/-  Test score      +/-\n",
      "f1                  0.998  0.00099     0.74595  0.01074\n",
      "accuracy            0.998  0.00099     0.74600  0.01014\n",
      "precision           0.998  0.00166     0.74619  0.01228\n",
      "recall              0.998  0.00099     0.74600  0.01725\n",
      "Total time: 113.94111728668213\n"
     ]
    },
    {
     "data": {
      "text/plain": [
       "(0.9979999937030755,\n",
       " 0.0009937514689830943,\n",
       " 0.7459506875086604,\n",
       " 0.010735640010238858,\n",
       " 113.94111728668213)"
      ]
     },
     "execution_count": 18,
     "metadata": {},
     "output_type": "execute_result"
    },
    {
     "data": {
      "image/png": "[encoded data removed]",
      "text/plain": [
       "<Figure size 432x288 with 2 Axes>"
      ]
     },
     "metadata": {
      "needs_background": "light"
     },
     "output_type": "display_data"
    }
   ],
   "source": [
    "model_MLP(3,20)"
   ]
  },
  {
   "cell_type": "code",
   "execution_count": 11,
   "metadata": {},
   "outputs": [
    {
     "name": "stderr",
     "output_type": "stream",
     "text": [
      "C:\\Users\\Public\\Anaconda3\\lib\\site-packages\\sklearn\\neural_network\\_multilayer_perceptron.py:585: ConvergenceWarning: Stochastic Optimizer: Maximum iterations (200) reached and the optimization hasn't converged yet.\n",
      "  % self.max_iter, ConvergenceWarning)\n"
     ]
    }
   ],
   "source": [
    "parameters = {\n",
    "    'hidden_layer_sizes' : [[20],[30],[40],[50],[100],\n",
    "                           [20,20],[30,30],[40,40],[50,50],[100,100],\n",
    "                           [20,100,20],[30,100,30],[40,100,40],[50,100,50],[100,50,100]],\n",
    "    'solver' : ['sgd', 'adam'],\n",
    "    'activation' : ['tanh', 'relu']\n",
    "}\n",
    "\n",
    "gs = grid_search(parameters)"
   ]
  },
  {
   "cell_type": "code",
   "execution_count": 12,
   "metadata": {},
   "outputs": [],
   "source": [
    "saveModel(gs, 'GS_MLP_LSA_1500')"
   ]
  },
  {
   "cell_type": "code",
   "execution_count": 15,
   "metadata": {},
   "outputs": [],
   "source": [
    "gs = loadModel('MLP_GS_LSA_1500')"
   ]
  },
  {
   "cell_type": "code",
   "execution_count": 17,
   "metadata": {},
   "outputs": [
    {
     "data": {
      "text/plain": [
       "{'activation': 'relu', 'hidden_layer_sizes': [100, 100], 'solver': 'sgd'}"
      ]
     },
     "execution_count": 17,
     "metadata": {},
     "output_type": "execute_result"
    }
   ],
   "source": [
    "gs.best_params_"
   ]
  },
  {
   "cell_type": "code",
   "execution_count": 15,
   "metadata": {
    "scrolled": true
   },
   "outputs": [
    {
     "data": {
      "text/plain": [
       "{'mean_fit_time': array([159.79569674, 167.15295162, 183.60146594, 207.47657142,\n",
       "        215.16096087, 249.2536128 , 275.25367856, 325.34497871,\n",
       "        514.08582296, 665.69849677, 163.50858722, 168.8088213 ,\n",
       "        196.54264174, 178.86863074, 240.04951162, 181.05126128,\n",
       "        282.261831  , 191.73577905, 541.5311058 , 343.40886083,\n",
       "        178.90303106,  99.50812387, 214.4142786 , 107.53785481,\n",
       "        256.8085197 , 130.24243894, 292.7019249 , 156.72382936,\n",
       "        514.75319834, 261.16806073, 147.08730388, 159.94911318,\n",
       "        182.35061526, 187.05104108, 215.15549731, 203.54354696,\n",
       "        258.38410559, 227.93571744, 475.14510245, 379.27605066,\n",
       "        150.83747416,  66.160291  , 183.1071909 ,  79.63905067,\n",
       "        222.00358195,  77.95076585, 258.86695175,  97.86789346,\n",
       "        521.18240423, 161.2891263 , 180.45621209,  56.89364381,\n",
       "        220.96975069,  69.99413276, 241.82365651,  65.23774886,\n",
       "        282.61461506,  71.00010843, 443.78480754, 124.19092484]),\n",
       " 'std_fit_time': array([ 1.28278392,  2.03507523,  1.89171706,  3.29187653,  2.70018369,\n",
       "         1.31239387,  7.89133193, 13.10007   , 11.69620487,  8.10707173,\n",
       "         3.39639509,  6.87657101,  4.50162757, 16.21456992,  5.43107587,\n",
       "        24.21053119, 15.1946385 , 25.35471357,  3.73739109, 61.15481717,\n",
       "         3.01344127, 13.72852325,  0.99321499, 21.74567176,  1.89759476,\n",
       "        10.89784109,  6.31064435, 27.62950287,  6.40971797, 38.88900436,\n",
       "         2.47881937,  2.93822917,  1.68339152, 11.35765513,  1.13004503,\n",
       "        10.79141878,  0.57933348, 17.64058822,  4.23950225, 12.6434891 ,\n",
       "         0.83562199, 10.23962413,  1.79077836,  7.47729816,  2.3410462 ,\n",
       "        16.66029434,  3.54181399, 16.28011117,  7.24176506, 28.43196708,\n",
       "        10.06186116, 17.29400124,  4.31333126,  5.7529724 ,  2.43049055,\n",
       "        12.14351567,  6.34940767, 19.56613859, 21.40494136,  8.61172751]),\n",
       " 'mean_score_time': array([0.10791097, 0.34448075, 0.12047758, 0.10292606, 0.10711274,\n",
       "        0.16774535, 2.66766777, 1.31229067, 0.58543468, 0.7276536 ,\n",
       "        0.31675434, 0.492483  , 0.65105557, 0.92612329, 0.55052924,\n",
       "        0.88742733, 2.21367955, 0.57047396, 0.63031354, 0.57286882,\n",
       "        0.68736019, 0.28683305, 0.29241505, 0.38915868, 0.85331764,\n",
       "        0.48769355, 0.29839911, 0.39374924, 0.70730786, 0.20884299,\n",
       "        0.10471973, 0.08477268, 0.09175134, 0.09774261, 0.11050048,\n",
       "        0.09793401, 0.13742871, 0.16216593, 0.14022446, 0.12087908,\n",
       "        0.0923563 , 0.07360306, 0.09314814, 0.1015296 , 0.27087975,\n",
       "        0.09913464, 0.17692409, 0.12306733, 0.75896955, 0.48410525,\n",
       "        0.41928573, 0.7326405 , 0.41868124, 0.12905316, 0.30877504,\n",
       "        0.11309972, 0.77911806, 0.12292056, 0.15316005, 0.13284559]),\n",
       " 'std_score_time': array([0.02449264, 0.39450297, 0.03165997, 0.00825598, 0.01214393,\n",
       "        0.05430051, 2.44176293, 0.5667822 , 0.05635476, 0.1623198 ,\n",
       "        0.12373425, 0.52131096, 0.15523045, 0.41525532, 0.0452379 ,\n",
       "        0.56925771, 0.95360351, 0.16564508, 0.18022482, 0.18235494,\n",
       "        0.35339289, 0.14977899, 0.08400703, 0.29740656, 0.28800764,\n",
       "        0.30919729, 0.10730029, 0.37326206, 0.361797  , 0.09987984,\n",
       "        0.01733283, 0.00991291, 0.01206994, 0.00676777, 0.00922961,\n",
       "        0.00745116, 0.03717645, 0.08816613, 0.01993277, 0.0115522 ,\n",
       "        0.011923  , 0.01365244, 0.00926455, 0.01021874, 0.18266838,\n",
       "        0.00794376, 0.06406036, 0.01085975, 0.37870373, 0.33867102,\n",
       "        0.26687995, 0.62007408, 0.1523932 , 0.03511088, 0.16611547,\n",
       "        0.00978122, 0.68688893, 0.00317527, 0.05300464, 0.02804305]),\n",
       " 'param_activation': masked_array(data=['tanh', 'tanh', 'tanh', 'tanh', 'tanh', 'tanh', 'tanh',\n",
       "                    'tanh', 'tanh', 'tanh', 'tanh', 'tanh', 'tanh', 'tanh',\n",
       "                    'tanh', 'tanh', 'tanh', 'tanh', 'tanh', 'tanh', 'tanh',\n",
       "                    'tanh', 'tanh', 'tanh', 'tanh', 'tanh', 'tanh', 'tanh',\n",
       "                    'tanh', 'tanh', 'relu', 'relu', 'relu', 'relu', 'relu',\n",
       "                    'relu', 'relu', 'relu', 'relu', 'relu', 'relu', 'relu',\n",
       "                    'relu', 'relu', 'relu', 'relu', 'relu', 'relu', 'relu',\n",
       "                    'relu', 'relu', 'relu', 'relu', 'relu', 'relu', 'relu',\n",
       "                    'relu', 'relu', 'relu', 'relu'],\n",
       "              mask=[False, False, False, False, False, False, False, False,\n",
       "                    False, False, False, False, False, False, False, False,\n",
       "                    False, False, False, False, False, False, False, False,\n",
       "                    False, False, False, False, False, False, False, False,\n",
       "                    False, False, False, False, False, False, False, False,\n",
       "                    False, False, False, False, False, False, False, False,\n",
       "                    False, False, False, False, False, False, False, False,\n",
       "                    False, False, False, False],\n",
       "        fill_value='?',\n",
       "             dtype=object),\n",
       " 'param_hidden_layer_sizes': masked_array(data=[list([20]), list([20]), list([30]), list([30]),\n",
       "                    list([40]), list([40]), list([50]), list([50]),\n",
       "                    list([100]), list([100]), list([20, 20]),\n",
       "                    list([20, 20]), list([30, 30]), list([30, 30]),\n",
       "                    list([40, 40]), list([40, 40]), list([50, 50]),\n",
       "                    list([50, 50]), list([100, 100]), list([100, 100]),\n",
       "                    list([20, 100, 20]), list([20, 100, 20]),\n",
       "                    list([30, 100, 30]), list([30, 100, 30]),\n",
       "                    list([40, 100, 40]), list([40, 100, 40]),\n",
       "                    list([50, 100, 50]), list([50, 100, 50]),\n",
       "                    list([100, 50, 100]), list([100, 50, 100]), list([20]),\n",
       "                    list([20]), list([30]), list([30]), list([40]),\n",
       "                    list([40]), list([50]), list([50]), list([100]),\n",
       "                    list([100]), list([20, 20]), list([20, 20]),\n",
       "                    list([30, 30]), list([30, 30]), list([40, 40]),\n",
       "                    list([40, 40]), list([50, 50]), list([50, 50]),\n",
       "                    list([100, 100]), list([100, 100]),\n",
       "                    list([20, 100, 20]), list([20, 100, 20]),\n",
       "                    list([30, 100, 30]), list([30, 100, 30]),\n",
       "                    list([40, 100, 40]), list([40, 100, 40]),\n",
       "                    list([50, 100, 50]), list([50, 100, 50]),\n",
       "                    list([100, 50, 100]), list([100, 50, 100])],\n",
       "              mask=[False, False, False, False, False, False, False, False,\n",
       "                    False, False, False, False, False, False, False, False,\n",
       "                    False, False, False, False, False, False, False, False,\n",
       "                    False, False, False, False, False, False, False, False,\n",
       "                    False, False, False, False, False, False, False, False,\n",
       "                    False, False, False, False, False, False, False, False,\n",
       "                    False, False, False, False, False, False, False, False,\n",
       "                    False, False, False, False],\n",
       "        fill_value='?',\n",
       "             dtype=object),\n",
       " 'param_solver': masked_array(data=['sgd', 'adam', 'sgd', 'adam', 'sgd', 'adam', 'sgd',\n",
       "                    'adam', 'sgd', 'adam', 'sgd', 'adam', 'sgd', 'adam',\n",
       "                    'sgd', 'adam', 'sgd', 'adam', 'sgd', 'adam', 'sgd',\n",
       "                    'adam', 'sgd', 'adam', 'sgd', 'adam', 'sgd', 'adam',\n",
       "                    'sgd', 'adam', 'sgd', 'adam', 'sgd', 'adam', 'sgd',\n",
       "                    'adam', 'sgd', 'adam', 'sgd', 'adam', 'sgd', 'adam',\n",
       "                    'sgd', 'adam', 'sgd', 'adam', 'sgd', 'adam', 'sgd',\n",
       "                    'adam', 'sgd', 'adam', 'sgd', 'adam', 'sgd', 'adam',\n",
       "                    'sgd', 'adam', 'sgd', 'adam'],\n",
       "              mask=[False, False, False, False, False, False, False, False,\n",
       "                    False, False, False, False, False, False, False, False,\n",
       "                    False, False, False, False, False, False, False, False,\n",
       "                    False, False, False, False, False, False, False, False,\n",
       "                    False, False, False, False, False, False, False, False,\n",
       "                    False, False, False, False, False, False, False, False,\n",
       "                    False, False, False, False, False, False, False, False,\n",
       "                    False, False, False, False],\n",
       "        fill_value='?',\n",
       "             dtype=object),\n",
       " 'params': [{'activation': 'tanh',\n",
       "   'hidden_layer_sizes': [20],\n",
       "   'solver': 'sgd'},\n",
       "  {'activation': 'tanh', 'hidden_layer_sizes': [20], 'solver': 'adam'},\n",
       "  {'activation': 'tanh', 'hidden_layer_sizes': [30], 'solver': 'sgd'},\n",
       "  {'activation': 'tanh', 'hidden_layer_sizes': [30], 'solver': 'adam'},\n",
       "  {'activation': 'tanh', 'hidden_layer_sizes': [40], 'solver': 'sgd'},\n",
       "  {'activation': 'tanh', 'hidden_layer_sizes': [40], 'solver': 'adam'},\n",
       "  {'activation': 'tanh', 'hidden_layer_sizes': [50], 'solver': 'sgd'},\n",
       "  {'activation': 'tanh', 'hidden_layer_sizes': [50], 'solver': 'adam'},\n",
       "  {'activation': 'tanh', 'hidden_layer_sizes': [100], 'solver': 'sgd'},\n",
       "  {'activation': 'tanh', 'hidden_layer_sizes': [100], 'solver': 'adam'},\n",
       "  {'activation': 'tanh', 'hidden_layer_sizes': [20, 20], 'solver': 'sgd'},\n",
       "  {'activation': 'tanh', 'hidden_layer_sizes': [20, 20], 'solver': 'adam'},\n",
       "  {'activation': 'tanh', 'hidden_layer_sizes': [30, 30], 'solver': 'sgd'},\n",
       "  {'activation': 'tanh', 'hidden_layer_sizes': [30, 30], 'solver': 'adam'},\n",
       "  {'activation': 'tanh', 'hidden_layer_sizes': [40, 40], 'solver': 'sgd'},\n",
       "  {'activation': 'tanh', 'hidden_layer_sizes': [40, 40], 'solver': 'adam'},\n",
       "  {'activation': 'tanh', 'hidden_layer_sizes': [50, 50], 'solver': 'sgd'},\n",
       "  {'activation': 'tanh', 'hidden_layer_sizes': [50, 50], 'solver': 'adam'},\n",
       "  {'activation': 'tanh', 'hidden_layer_sizes': [100, 100], 'solver': 'sgd'},\n",
       "  {'activation': 'tanh', 'hidden_layer_sizes': [100, 100], 'solver': 'adam'},\n",
       "  {'activation': 'tanh', 'hidden_layer_sizes': [20, 100, 20], 'solver': 'sgd'},\n",
       "  {'activation': 'tanh',\n",
       "   'hidden_layer_sizes': [20, 100, 20],\n",
       "   'solver': 'adam'},\n",
       "  {'activation': 'tanh', 'hidden_layer_sizes': [30, 100, 30], 'solver': 'sgd'},\n",
       "  {'activation': 'tanh',\n",
       "   'hidden_layer_sizes': [30, 100, 30],\n",
       "   'solver': 'adam'},\n",
       "  {'activation': 'tanh', 'hidden_layer_sizes': [40, 100, 40], 'solver': 'sgd'},\n",
       "  {'activation': 'tanh',\n",
       "   'hidden_layer_sizes': [40, 100, 40],\n",
       "   'solver': 'adam'},\n",
       "  {'activation': 'tanh', 'hidden_layer_sizes': [50, 100, 50], 'solver': 'sgd'},\n",
       "  {'activation': 'tanh',\n",
       "   'hidden_layer_sizes': [50, 100, 50],\n",
       "   'solver': 'adam'},\n",
       "  {'activation': 'tanh',\n",
       "   'hidden_layer_sizes': [100, 50, 100],\n",
       "   'solver': 'sgd'},\n",
       "  {'activation': 'tanh',\n",
       "   'hidden_layer_sizes': [100, 50, 100],\n",
       "   'solver': 'adam'},\n",
       "  {'activation': 'relu', 'hidden_layer_sizes': [20], 'solver': 'sgd'},\n",
       "  {'activation': 'relu', 'hidden_layer_sizes': [20], 'solver': 'adam'},\n",
       "  {'activation': 'relu', 'hidden_layer_sizes': [30], 'solver': 'sgd'},\n",
       "  {'activation': 'relu', 'hidden_layer_sizes': [30], 'solver': 'adam'},\n",
       "  {'activation': 'relu', 'hidden_layer_sizes': [40], 'solver': 'sgd'},\n",
       "  {'activation': 'relu', 'hidden_layer_sizes': [40], 'solver': 'adam'},\n",
       "  {'activation': 'relu', 'hidden_layer_sizes': [50], 'solver': 'sgd'},\n",
       "  {'activation': 'relu', 'hidden_layer_sizes': [50], 'solver': 'adam'},\n",
       "  {'activation': 'relu', 'hidden_layer_sizes': [100], 'solver': 'sgd'},\n",
       "  {'activation': 'relu', 'hidden_layer_sizes': [100], 'solver': 'adam'},\n",
       "  {'activation': 'relu', 'hidden_layer_sizes': [20, 20], 'solver': 'sgd'},\n",
       "  {'activation': 'relu', 'hidden_layer_sizes': [20, 20], 'solver': 'adam'},\n",
       "  {'activation': 'relu', 'hidden_layer_sizes': [30, 30], 'solver': 'sgd'},\n",
       "  {'activation': 'relu', 'hidden_layer_sizes': [30, 30], 'solver': 'adam'},\n",
       "  {'activation': 'relu', 'hidden_layer_sizes': [40, 40], 'solver': 'sgd'},\n",
       "  {'activation': 'relu', 'hidden_layer_sizes': [40, 40], 'solver': 'adam'},\n",
       "  {'activation': 'relu', 'hidden_layer_sizes': [50, 50], 'solver': 'sgd'},\n",
       "  {'activation': 'relu', 'hidden_layer_sizes': [50, 50], 'solver': 'adam'},\n",
       "  {'activation': 'relu', 'hidden_layer_sizes': [100, 100], 'solver': 'sgd'},\n",
       "  {'activation': 'relu', 'hidden_layer_sizes': [100, 100], 'solver': 'adam'},\n",
       "  {'activation': 'relu', 'hidden_layer_sizes': [20, 100, 20], 'solver': 'sgd'},\n",
       "  {'activation': 'relu',\n",
       "   'hidden_layer_sizes': [20, 100, 20],\n",
       "   'solver': 'adam'},\n",
       "  {'activation': 'relu', 'hidden_layer_sizes': [30, 100, 30], 'solver': 'sgd'},\n",
       "  {'activation': 'relu',\n",
       "   'hidden_layer_sizes': [30, 100, 30],\n",
       "   'solver': 'adam'},\n",
       "  {'activation': 'relu', 'hidden_layer_sizes': [40, 100, 40], 'solver': 'sgd'},\n",
       "  {'activation': 'relu',\n",
       "   'hidden_layer_sizes': [40, 100, 40],\n",
       "   'solver': 'adam'},\n",
       "  {'activation': 'relu', 'hidden_layer_sizes': [50, 100, 50], 'solver': 'sgd'},\n",
       "  {'activation': 'relu',\n",
       "   'hidden_layer_sizes': [50, 100, 50],\n",
       "   'solver': 'adam'},\n",
       "  {'activation': 'relu',\n",
       "   'hidden_layer_sizes': [100, 50, 100],\n",
       "   'solver': 'sgd'},\n",
       "  {'activation': 'relu',\n",
       "   'hidden_layer_sizes': [100, 50, 100],\n",
       "   'solver': 'adam'}],\n",
       " 'split0_test_score': array([0.79220779, 0.79701493, 0.791     , 0.78278481, 0.79457559,\n",
       "        0.78790932, 0.79016064, 0.79578525, 0.79279279, 0.78575013,\n",
       "        0.79079079, 0.77577578, 0.78449612, 0.7702363 , 0.79024886,\n",
       "        0.76961519, 0.78950025, 0.78265255, 0.788     , 0.7721393 ,\n",
       "        0.78546189, 0.76372796, 0.78484848, 0.75569044, 0.78912934,\n",
       "        0.76532138, 0.7786338 , 0.7518949 , 0.7806354 , 0.777332  ,\n",
       "        0.79338014, 0.79007444, 0.79114243, 0.7970297 , 0.79252903,\n",
       "        0.8037568 , 0.79519279, 0.7962038 , 0.7987988 , 0.79774127,\n",
       "        0.79003559, 0.77928607, 0.79678876, 0.79783037, 0.79093199,\n",
       "        0.75      , 0.79559118, 0.79680479, 0.79959718, 0.79717457,\n",
       "        0.79584775, 0.78401619, 0.80335968, 0.78625568, 0.79303279,\n",
       "        0.79060266, 0.78748107, 0.7981973 , 0.80518186, 0.80425963]),\n",
       " 'split1_test_score': array([0.796     , 0.7804878 , 0.79373104, 0.76668339, 0.79058116,\n",
       "        0.77467597, 0.80059672, 0.77553084, 0.79074447, 0.77370798,\n",
       "        0.80567792, 0.77601586, 0.80237741, 0.74772957, 0.7972236 ,\n",
       "        0.75426279, 0.79822398, 0.74925373, 0.79704433, 0.76740741,\n",
       "        0.78256462, 0.74240159, 0.79007444, 0.7307888 , 0.78666013,\n",
       "        0.76785714, 0.78295739, 0.75341772, 0.78525799, 0.75992063,\n",
       "        0.79179179, 0.78029557, 0.79658463, 0.7839599 , 0.79819277,\n",
       "        0.79191321, 0.79197995, 0.78680453, 0.7991988 , 0.79583746,\n",
       "        0.80774963, 0.79352624, 0.807484  , 0.79017199, 0.80985222,\n",
       "        0.77649422, 0.80441324, 0.7888999 , 0.8125    , 0.79743083,\n",
       "        0.79563492, 0.77711443, 0.8001998 , 0.78939617, 0.80567792,\n",
       "        0.76270299, 0.78278481, 0.78851964, 0.8090999 , 0.78664008]),\n",
       " 'split2_test_score': array([0.76946411, 0.77236581, 0.77665996, 0.76715073, 0.7790111 ,\n",
       "        0.76345178, 0.775715  , 0.76976629, 0.77565392, 0.76616915,\n",
       "        0.76238119, 0.73508595, 0.75591344, 0.75454545, 0.75591344,\n",
       "        0.73930754, 0.76271186, 0.74432678, 0.76838419, 0.73986152,\n",
       "        0.75569044, 0.73383459, 0.74253347, 0.7281999 , 0.75603746,\n",
       "        0.73283208, 0.7592955 , 0.74208145, 0.76185771, 0.73463115,\n",
       "        0.77699294, 0.76930693, 0.78134403, 0.76559356, 0.78007046,\n",
       "        0.77054967, 0.77822581, 0.76314472, 0.77783325, 0.78      ,\n",
       "        0.77132761, 0.76646707, 0.77406484, 0.75142119, 0.77067855,\n",
       "        0.76923077, 0.76776777, 0.76643074, 0.77290837, 0.77915633,\n",
       "        0.7662531 , 0.75535168, 0.77162978, 0.76664972, 0.76838966,\n",
       "        0.75707317, 0.7804401 , 0.77457795, 0.7754897 , 0.765555  ]),\n",
       " 'split3_test_score': array([0.77620968, 0.77514793, 0.78053625, 0.78135845, 0.77577578,\n",
       "        0.78063241, 0.78190955, 0.77448071, 0.78182726, 0.7705326 ,\n",
       "        0.78458498, 0.7633513 , 0.78542914, 0.75196078, 0.78483506,\n",
       "        0.75694106, 0.78146341, 0.75931521, 0.78148333, 0.75518263,\n",
       "        0.77221655, 0.72945892, 0.7751861 , 0.74925075, 0.77591313,\n",
       "        0.74503968, 0.77203647, 0.74150665, 0.77530364, 0.75979899,\n",
       "        0.77661169, 0.77261114, 0.77309237, 0.7798995 , 0.77694236,\n",
       "        0.7886341 , 0.77628301, 0.78895464, 0.7704671 , 0.78472222,\n",
       "        0.78850916, 0.79310345, 0.77805737, 0.7755511 , 0.7906746 ,\n",
       "        0.77750124, 0.78821179, 0.78243513, 0.78696742, 0.79315551,\n",
       "        0.78433317, 0.77942631, 0.78564405, 0.78596144, 0.78459199,\n",
       "        0.78235294, 0.77894737, 0.7757516 , 0.78243311, 0.78166585]),\n",
       " 'split4_test_score': array([0.79821517, 0.7739692 , 0.79548798, 0.78415842, 0.80293399,\n",
       "        0.79083665, 0.79507389, 0.78070612, 0.8       , 0.77923387,\n",
       "        0.78838583, 0.76365442, 0.79236043, 0.75762119, 0.79234168,\n",
       "        0.75430822, 0.79056047, 0.74912369, 0.79583746, 0.76581028,\n",
       "        0.78975874, 0.73185185, 0.78606002, 0.76167076, 0.77838374,\n",
       "        0.75320829, 0.7824371 , 0.75800887, 0.78171091, 0.76092293,\n",
       "        0.79346211, 0.7789891 , 0.79584775, 0.79023418, 0.79507389,\n",
       "        0.78443114, 0.8037568 , 0.79724409, 0.79880775, 0.79570941,\n",
       "        0.80272772, 0.77422577, 0.79349433, 0.79980421, 0.797     ,\n",
       "        0.788774  , 0.78845197, 0.78419753, 0.79741807, 0.793     ,\n",
       "        0.80275455, 0.77466863, 0.79882812, 0.78056112, 0.78918378,\n",
       "        0.78631631, 0.79265873, 0.78716049, 0.77866401, 0.78978979]),\n",
       " 'mean_test_score': array([0.78641935, 0.77979713, 0.78748305, 0.77642716, 0.78857552,\n",
       "        0.77950123, 0.78869116, 0.77925384, 0.78820369, 0.77507875,\n",
       "        0.78636414, 0.76277666, 0.78411531, 0.75641866, 0.78411253,\n",
       "        0.75488696, 0.784492  , 0.75693439, 0.78614986, 0.76008023,\n",
       "        0.77713845, 0.74025498, 0.7757405 , 0.74512013, 0.77722476,\n",
       "        0.75285171, 0.77507205, 0.74938192, 0.77695313, 0.75852114,\n",
       "        0.78644773, 0.77825544, 0.78760224, 0.78334337, 0.7885617 ,\n",
       "        0.78785698, 0.78908767, 0.78647035, 0.78902114, 0.79080207,\n",
       "        0.79206994, 0.78132172, 0.78997786, 0.78295577, 0.79182747,\n",
       "        0.77240005, 0.78888719, 0.78375362, 0.79387821, 0.79198345,\n",
       "        0.7889647 , 0.77411545, 0.79193229, 0.78176483, 0.78817523,\n",
       "        0.77580961, 0.78446242, 0.7848414 , 0.79017372, 0.78558207]),\n",
       " 'std_test_score': array([0.0114556 , 0.00903033, 0.0074951 , 0.00781669, 0.01001499,\n",
       "        0.00981158, 0.00893322, 0.0089672 , 0.00854194, 0.00682745,\n",
       "        0.01396461, 0.01491395, 0.01548356, 0.00763224, 0.01464913,\n",
       "        0.00963933, 0.01211629, 0.01375531, 0.01052005, 0.01153018,\n",
       "        0.0121839 , 0.0125218 , 0.01730852, 0.01337459, 0.01168512,\n",
       "        0.0129815 , 0.00880026, 0.00651681, 0.00819462, 0.01366704,\n",
       "        0.00789886, 0.00715993, 0.00906539, 0.01060278, 0.00846187,\n",
       "        0.01078091, 0.01041883, 0.01233841, 0.01236435, 0.00708857,\n",
       "        0.01270041, 0.01061053, 0.01233322, 0.0179246 , 0.01265744,\n",
       "        0.01282729, 0.01210518, 0.00998834, 0.01326274, 0.00668676,\n",
       "        0.01280075, 0.00987531, 0.01181714, 0.00807381, 0.01212655,\n",
       "        0.01337818, 0.005014  , 0.00877782, 0.01408159, 0.01252275]),\n",
       " 'rank_test_score': array([23, 37, 20, 44, 14, 38, 13, 39, 16, 47, 24, 51, 30, 55, 31, 56, 28,\n",
       "        54, 25, 52, 42, 60, 46, 59, 41, 57, 48, 58, 43, 53, 22, 40, 19, 33,\n",
       "        15, 18,  9, 21, 10,  6,  2, 36,  8, 34,  5, 50, 12, 32,  1,  3, 11,\n",
       "        49,  4, 35, 17, 45, 29, 27,  7, 26]),\n",
       " 'split0_train_score': array([0.82488134, 0.99837561, 0.82837302, 0.99924962, 0.82479112,\n",
       "        0.99925   , 0.82608154, 0.9995    , 0.82559442, 0.99962495,\n",
       "        0.85974634, 0.99975   , 0.85656361, 0.99962505, 0.85834885,\n",
       "        0.99962486, 0.85948158, 0.99975006, 0.86079685, 0.99937477,\n",
       "        0.87682776, 0.998001  , 0.87801242, 0.99638178, 0.87433585,\n",
       "        0.99738122, 0.87207981, 0.99875062, 0.87396208, 0.99975   ,\n",
       "        0.83037278, 0.99962486, 0.82699049, 0.99974994, 0.82977395,\n",
       "        0.99975   , 0.82799199, 0.99975   , 0.82841121, 0.99974994,\n",
       "        0.87068534, 0.99974994, 0.87781109, 0.99975006, 0.87690214,\n",
       "        0.97149344, 0.88280476, 0.99962495, 0.88754025, 0.99974994,\n",
       "        0.9157726 , 0.99949987, 0.9017769 , 0.99975   , 0.938222  ,\n",
       "        0.99975   , 0.9384711 , 0.99974994, 0.98340197, 0.99974994]),\n",
       " 'split1_train_score': array([0.82909728, 0.99887514, 0.82943396, 0.99924944, 0.83297832,\n",
       "        0.99925   , 0.83312453, 0.99937477, 0.83274824, 0.99962495,\n",
       "        0.86549852, 0.99975   , 0.86389508, 0.99949987, 0.86328956,\n",
       "        0.99949987, 0.86196624, 0.99749812, 0.86316834, 0.99975006,\n",
       "        0.88147208, 0.99413014, 0.88154613, 0.99160085, 0.87951807,\n",
       "        0.98605578, 0.87977797, 0.9989995 , 0.8817284 , 0.99975   ,\n",
       "        0.83069245, 0.99949975, 0.83063808, 0.99974994, 0.82917033,\n",
       "        0.99975   , 0.82853913, 0.99975   , 0.83454318, 0.99975006,\n",
       "        0.87334499, 0.99949987, 0.88724036, 0.99975006, 0.88203853,\n",
       "        0.99962505, 0.88368012, 0.9990005 , 0.89292829, 0.99974994,\n",
       "        0.91429276, 0.99974994, 0.9013943 , 0.99975006, 0.94137974,\n",
       "        0.96685223, 0.95525022, 0.99962495, 0.98060318, 0.99962486]),\n",
       " 'split2_train_score': array([0.83318712, 0.99862517, 0.83699451, 0.99924981, 0.83172535,\n",
       "        0.99937477, 0.83878999, 0.99937508, 0.83648581, 0.99937492,\n",
       "        0.86665005, 0.99962514, 0.86390384, 0.99962486, 0.86473612,\n",
       "        0.99824825, 0.86682447, 0.99974994, 0.86555986, 0.99251497,\n",
       "        0.8779319 , 0.99586932, 0.88066158, 0.99912489, 0.88133513,\n",
       "        0.99862552, 0.88299038, 0.99875031, 0.88145221, 0.99962486,\n",
       "        0.83529707, 0.99949987, 0.83989501, 0.99962495, 0.83531622,\n",
       "        0.99975   , 0.83322892, 0.99975006, 0.84004516, 0.99974994,\n",
       "        0.88230885, 0.99962495, 0.88253574, 0.99974994, 0.88427595,\n",
       "        0.99975   , 0.88658765, 0.9995    , 0.89188178, 0.99975006,\n",
       "        0.92168525, 0.99975   , 0.96433026, 0.99975   , 0.94753935,\n",
       "        0.99937492, 0.9480986 , 0.99962505, 0.9740569 , 0.99974994]),\n",
       " 'split3_train_score': array([0.82824236, 0.99837358, 0.83134031, 0.99874906, 0.82992008,\n",
       "        0.99912511, 0.82841722, 0.99937492, 0.83029243, 0.99962505,\n",
       "        0.86717784, 0.99962505, 0.86238303, 0.99962495, 0.86280337,\n",
       "        0.99962514, 0.86826864, 0.99974994, 0.86343723, 0.99737402,\n",
       "        0.87803637, 0.99837358, 0.88149431, 0.9980005 , 0.87783141,\n",
       "        0.99924981, 0.87676411, 0.9965035 , 0.87594554, 0.99975   ,\n",
       "        0.82940222, 0.99962495, 0.83237284, 0.99974994, 0.83329155,\n",
       "        0.99962505, 0.83249875, 0.99975   , 0.83113622, 0.99974994,\n",
       "        0.87953158, 0.99962486, 0.8717563 , 0.99975   , 0.88166937,\n",
       "        0.99975   , 0.88166418, 0.99974994, 0.88743225, 0.99975   ,\n",
       "        0.91275168, 0.99975006, 0.93800272, 0.99975   , 0.93989624,\n",
       "        0.99975   , 0.96802508, 0.99975006, 0.96736129, 0.99975006]),\n",
       " 'split4_train_score': array([0.83121099, 0.99849887, 0.83252276, 0.99937508, 0.82814446,\n",
       "        0.99962495, 0.82980314, 0.99962495, 0.83158683, 0.99987498,\n",
       "        0.86145405, 0.99987502, 0.86409938, 1.        , 0.85871743,\n",
       "        0.99874969, 0.86170744, 0.99987502, 0.85997989, 0.99974994,\n",
       "        0.8782361 , 0.99525237, 0.87780916, 0.99775169, 0.87782354,\n",
       "        0.99712392, 0.87875776, 0.99787314, 0.87568784, 0.99987502,\n",
       "        0.83358283, 0.99987502, 0.8259454 , 1.        , 0.833001  ,\n",
       "        1.        , 0.83269063, 0.99987498, 0.83408184, 0.99987502,\n",
       "        0.87124569, 1.        , 0.87698661, 1.        , 0.88227164,\n",
       "        1.        , 0.88768708, 1.        , 0.88172043, 1.        ,\n",
       "        0.91620948, 0.99612452, 0.95039164, 1.        , 0.91841083,\n",
       "        1.        , 0.95519044, 0.99987502, 0.96987196, 1.        ]),\n",
       " 'mean_train_score': array([0.82932382, 0.99854967, 0.83173291, 0.9991746 , 0.82951187,\n",
       "        0.99932497, 0.83124328, 0.99944994, 0.83134155, 0.99962497,\n",
       "        0.86410536, 0.99972504, 0.86216899, 0.99967495, 0.86157907,\n",
       "        0.99914956, 0.86364967, 0.99932462, 0.86258843, 0.99775275,\n",
       "        0.87850084, 0.99632528, 0.87990472, 0.99657194, 0.8781688 ,\n",
       "        0.99568725, 0.87807401, 0.99817541, 0.87775521, 0.99974997,\n",
       "        0.83186947, 0.99962489, 0.83116837, 0.99977495, 0.83211061,\n",
       "        0.99977501, 0.83098988, 0.99977501, 0.83364352, 0.99977498,\n",
       "        0.87542329, 0.99969992, 0.87926602, 0.99980001, 0.88143153,\n",
       "        0.9941237 , 0.88448476, 0.99957508, 0.8883006 , 0.99979999,\n",
       "        0.91614235, 0.99897488, 0.93117916, 0.99980001, 0.93708963,\n",
       "        0.99314543, 0.95300709, 0.999725  , 0.97505906, 0.99977496]),\n",
       " 'std_train_score': array([2.80866368e-03, 1.87359458e-04, 3.00121513e-03, 2.18247777e-04,\n",
       "        2.87185320e-03, 1.69502061e-04, 4.40899463e-03, 1.00018816e-04,\n",
       "        3.53928041e-03, 1.58133654e-04, 2.96266801e-03, 9.35063769e-05,\n",
       "        2.86989906e-03, 1.69592368e-04, 2.56962548e-03, 5.56249558e-04,\n",
       "        3.32846424e-03, 9.14528917e-04, 1.99501158e-03, 2.76357479e-03,\n",
       "        1.56441605e-03, 1.62365264e-03, 1.65927864e-03, 2.63431251e-03,\n",
       "        2.31390470e-03, 4.87901808e-03, 3.61076183e-03, 9.19474975e-04,\n",
       "        3.20595657e-03, 7.91063741e-05, 2.20892771e-03, 1.37004847e-04,\n",
       "        4.95217799e-03, 1.22493628e-04, 2.30515012e-03, 1.22463007e-04,\n",
       "        2.24392866e-03, 4.99875066e-05, 3.88963017e-03, 5.00187789e-05,\n",
       "        4.65851322e-03, 1.69600653e-04, 5.25337043e-03, 9.99937654e-05,\n",
       "        2.43872487e-03, 1.13157841e-02, 2.28484423e-03, 3.31481204e-04,\n",
       "        3.97167837e-03, 1.00006265e-04, 3.02597567e-03, 1.42846982e-03,\n",
       "        2.55589778e-02, 9.99937545e-05, 9.85554180e-03, 1.31481172e-02,\n",
       "        9.70285426e-03, 9.35464592e-05, 6.12384743e-03, 1.22511513e-04])}"
      ]
     },
     "execution_count": 15,
     "metadata": {},
     "output_type": "execute_result"
    }
   ],
   "source": [
    "gs.cv_results_"
   ]
  },
  {
   "cell_type": "code",
   "execution_count": 78,
   "metadata": {
    "scrolled": false
   },
   "outputs": [
    {
     "data": {
      "text/html": [
       "<div>\n",
       "<style scoped>\n",
       "    .dataframe tbody tr th:only-of-type {\n",
       "        vertical-align: middle;\n",
       "    }\n",
       "\n",
       "    .dataframe tbody tr th {\n",
       "        vertical-align: top;\n",
       "    }\n",
       "\n",
       "    .dataframe thead th {\n",
       "        text-align: right;\n",
       "    }\n",
       "</style>\n",
       "<table border=\"1\" class=\"dataframe\">\n",
       "  <thead>\n",
       "    <tr style=\"text-align: right;\">\n",
       "      <th></th>\n",
       "      <th>hidden_layer_sizes</th>\n",
       "      <th>solver</th>\n",
       "      <th>Training score</th>\n",
       "      <th>+/-</th>\n",
       "      <th>Test score</th>\n",
       "      <th>+/-</th>\n",
       "    </tr>\n",
       "    <tr>\n",
       "      <th>Activation</th>\n",
       "      <th></th>\n",
       "      <th></th>\n",
       "      <th></th>\n",
       "      <th></th>\n",
       "      <th></th>\n",
       "      <th></th>\n",
       "    </tr>\n",
       "  </thead>\n",
       "  <tbody>\n",
       "    <tr>\n",
       "      <td>tanh</td>\n",
       "      <td>[20]</td>\n",
       "      <td>sgd</td>\n",
       "      <td>0.829324</td>\n",
       "      <td>0.002809</td>\n",
       "      <td>0.786419</td>\n",
       "      <td>0.011456</td>\n",
       "    </tr>\n",
       "    <tr>\n",
       "      <td>tanh</td>\n",
       "      <td>[20]</td>\n",
       "      <td>adam</td>\n",
       "      <td>0.998550</td>\n",
       "      <td>0.000187</td>\n",
       "      <td>0.779797</td>\n",
       "      <td>0.009030</td>\n",
       "    </tr>\n",
       "    <tr>\n",
       "      <td>tanh</td>\n",
       "      <td>[30]</td>\n",
       "      <td>sgd</td>\n",
       "      <td>0.831733</td>\n",
       "      <td>0.003001</td>\n",
       "      <td>0.787483</td>\n",
       "      <td>0.007495</td>\n",
       "    </tr>\n",
       "    <tr>\n",
       "      <td>tanh</td>\n",
       "      <td>[30]</td>\n",
       "      <td>adam</td>\n",
       "      <td>0.999175</td>\n",
       "      <td>0.000218</td>\n",
       "      <td>0.776427</td>\n",
       "      <td>0.007817</td>\n",
       "    </tr>\n",
       "    <tr>\n",
       "      <td>tanh</td>\n",
       "      <td>[40]</td>\n",
       "      <td>sgd</td>\n",
       "      <td>0.829512</td>\n",
       "      <td>0.002872</td>\n",
       "      <td>0.788576</td>\n",
       "      <td>0.010015</td>\n",
       "    </tr>\n",
       "    <tr>\n",
       "      <td>tanh</td>\n",
       "      <td>[40]</td>\n",
       "      <td>adam</td>\n",
       "      <td>0.999325</td>\n",
       "      <td>0.000170</td>\n",
       "      <td>0.779501</td>\n",
       "      <td>0.009812</td>\n",
       "    </tr>\n",
       "    <tr>\n",
       "      <td>tanh</td>\n",
       "      <td>[50]</td>\n",
       "      <td>sgd</td>\n",
       "      <td>0.831243</td>\n",
       "      <td>0.004409</td>\n",
       "      <td>0.788691</td>\n",
       "      <td>0.008933</td>\n",
       "    </tr>\n",
       "    <tr>\n",
       "      <td>tanh</td>\n",
       "      <td>[50]</td>\n",
       "      <td>adam</td>\n",
       "      <td>0.999450</td>\n",
       "      <td>0.000100</td>\n",
       "      <td>0.779254</td>\n",
       "      <td>0.008967</td>\n",
       "    </tr>\n",
       "    <tr>\n",
       "      <td>tanh</td>\n",
       "      <td>[100]</td>\n",
       "      <td>sgd</td>\n",
       "      <td>0.831342</td>\n",
       "      <td>0.003539</td>\n",
       "      <td>0.788204</td>\n",
       "      <td>0.008542</td>\n",
       "    </tr>\n",
       "    <tr>\n",
       "      <td>tanh</td>\n",
       "      <td>[100]</td>\n",
       "      <td>adam</td>\n",
       "      <td>0.999625</td>\n",
       "      <td>0.000158</td>\n",
       "      <td>0.775079</td>\n",
       "      <td>0.006827</td>\n",
       "    </tr>\n",
       "    <tr>\n",
       "      <td>tanh</td>\n",
       "      <td>[20, 20]</td>\n",
       "      <td>sgd</td>\n",
       "      <td>0.864105</td>\n",
       "      <td>0.002963</td>\n",
       "      <td>0.786364</td>\n",
       "      <td>0.013965</td>\n",
       "    </tr>\n",
       "    <tr>\n",
       "      <td>tanh</td>\n",
       "      <td>[20, 20]</td>\n",
       "      <td>adam</td>\n",
       "      <td>0.999725</td>\n",
       "      <td>0.000094</td>\n",
       "      <td>0.762777</td>\n",
       "      <td>0.014914</td>\n",
       "    </tr>\n",
       "    <tr>\n",
       "      <td>tanh</td>\n",
       "      <td>[30, 30]</td>\n",
       "      <td>sgd</td>\n",
       "      <td>0.862169</td>\n",
       "      <td>0.002870</td>\n",
       "      <td>0.784115</td>\n",
       "      <td>0.015484</td>\n",
       "    </tr>\n",
       "    <tr>\n",
       "      <td>tanh</td>\n",
       "      <td>[30, 30]</td>\n",
       "      <td>adam</td>\n",
       "      <td>0.999675</td>\n",
       "      <td>0.000170</td>\n",
       "      <td>0.756419</td>\n",
       "      <td>0.007632</td>\n",
       "    </tr>\n",
       "    <tr>\n",
       "      <td>tanh</td>\n",
       "      <td>[40, 40]</td>\n",
       "      <td>sgd</td>\n",
       "      <td>0.861579</td>\n",
       "      <td>0.002570</td>\n",
       "      <td>0.784113</td>\n",
       "      <td>0.014649</td>\n",
       "    </tr>\n",
       "    <tr>\n",
       "      <td>tanh</td>\n",
       "      <td>[40, 40]</td>\n",
       "      <td>adam</td>\n",
       "      <td>0.999150</td>\n",
       "      <td>0.000556</td>\n",
       "      <td>0.754887</td>\n",
       "      <td>0.009639</td>\n",
       "    </tr>\n",
       "    <tr>\n",
       "      <td>tanh</td>\n",
       "      <td>[50, 50]</td>\n",
       "      <td>sgd</td>\n",
       "      <td>0.863650</td>\n",
       "      <td>0.003328</td>\n",
       "      <td>0.784492</td>\n",
       "      <td>0.012116</td>\n",
       "    </tr>\n",
       "    <tr>\n",
       "      <td>tanh</td>\n",
       "      <td>[50, 50]</td>\n",
       "      <td>adam</td>\n",
       "      <td>0.999325</td>\n",
       "      <td>0.000915</td>\n",
       "      <td>0.756934</td>\n",
       "      <td>0.013755</td>\n",
       "    </tr>\n",
       "    <tr>\n",
       "      <td>tanh</td>\n",
       "      <td>[100, 100]</td>\n",
       "      <td>sgd</td>\n",
       "      <td>0.862588</td>\n",
       "      <td>0.001995</td>\n",
       "      <td>0.786150</td>\n",
       "      <td>0.010520</td>\n",
       "    </tr>\n",
       "    <tr>\n",
       "      <td>tanh</td>\n",
       "      <td>[100, 100]</td>\n",
       "      <td>adam</td>\n",
       "      <td>0.997753</td>\n",
       "      <td>0.002764</td>\n",
       "      <td>0.760080</td>\n",
       "      <td>0.011530</td>\n",
       "    </tr>\n",
       "    <tr>\n",
       "      <td>tanh</td>\n",
       "      <td>[20, 100, 20]</td>\n",
       "      <td>sgd</td>\n",
       "      <td>0.878501</td>\n",
       "      <td>0.001564</td>\n",
       "      <td>0.777138</td>\n",
       "      <td>0.012184</td>\n",
       "    </tr>\n",
       "    <tr>\n",
       "      <td>tanh</td>\n",
       "      <td>[20, 100, 20]</td>\n",
       "      <td>adam</td>\n",
       "      <td>0.996325</td>\n",
       "      <td>0.001624</td>\n",
       "      <td>0.740255</td>\n",
       "      <td>0.012522</td>\n",
       "    </tr>\n",
       "    <tr>\n",
       "      <td>tanh</td>\n",
       "      <td>[30, 100, 30]</td>\n",
       "      <td>sgd</td>\n",
       "      <td>0.879905</td>\n",
       "      <td>0.001659</td>\n",
       "      <td>0.775741</td>\n",
       "      <td>0.017309</td>\n",
       "    </tr>\n",
       "    <tr>\n",
       "      <td>tanh</td>\n",
       "      <td>[30, 100, 30]</td>\n",
       "      <td>adam</td>\n",
       "      <td>0.996572</td>\n",
       "      <td>0.002634</td>\n",
       "      <td>0.745120</td>\n",
       "      <td>0.013375</td>\n",
       "    </tr>\n",
       "    <tr>\n",
       "      <td>tanh</td>\n",
       "      <td>[40, 100, 40]</td>\n",
       "      <td>sgd</td>\n",
       "      <td>0.878169</td>\n",
       "      <td>0.002314</td>\n",
       "      <td>0.777225</td>\n",
       "      <td>0.011685</td>\n",
       "    </tr>\n",
       "    <tr>\n",
       "      <td>tanh</td>\n",
       "      <td>[40, 100, 40]</td>\n",
       "      <td>adam</td>\n",
       "      <td>0.995687</td>\n",
       "      <td>0.004879</td>\n",
       "      <td>0.752852</td>\n",
       "      <td>0.012981</td>\n",
       "    </tr>\n",
       "    <tr>\n",
       "      <td>tanh</td>\n",
       "      <td>[50, 100, 50]</td>\n",
       "      <td>sgd</td>\n",
       "      <td>0.878074</td>\n",
       "      <td>0.003611</td>\n",
       "      <td>0.775072</td>\n",
       "      <td>0.008800</td>\n",
       "    </tr>\n",
       "    <tr>\n",
       "      <td>tanh</td>\n",
       "      <td>[50, 100, 50]</td>\n",
       "      <td>adam</td>\n",
       "      <td>0.998175</td>\n",
       "      <td>0.000919</td>\n",
       "      <td>0.749382</td>\n",
       "      <td>0.006517</td>\n",
       "    </tr>\n",
       "    <tr>\n",
       "      <td>tanh</td>\n",
       "      <td>[100, 50, 100]</td>\n",
       "      <td>sgd</td>\n",
       "      <td>0.877755</td>\n",
       "      <td>0.003206</td>\n",
       "      <td>0.776953</td>\n",
       "      <td>0.008195</td>\n",
       "    </tr>\n",
       "    <tr>\n",
       "      <td>tanh</td>\n",
       "      <td>[100, 50, 100]</td>\n",
       "      <td>adam</td>\n",
       "      <td>0.999750</td>\n",
       "      <td>0.000079</td>\n",
       "      <td>0.758521</td>\n",
       "      <td>0.013667</td>\n",
       "    </tr>\n",
       "    <tr>\n",
       "      <td>relu</td>\n",
       "      <td>[20]</td>\n",
       "      <td>sgd</td>\n",
       "      <td>0.831869</td>\n",
       "      <td>0.002209</td>\n",
       "      <td>0.786448</td>\n",
       "      <td>0.007899</td>\n",
       "    </tr>\n",
       "    <tr>\n",
       "      <td>relu</td>\n",
       "      <td>[20]</td>\n",
       "      <td>adam</td>\n",
       "      <td>0.999625</td>\n",
       "      <td>0.000137</td>\n",
       "      <td>0.778255</td>\n",
       "      <td>0.007160</td>\n",
       "    </tr>\n",
       "    <tr>\n",
       "      <td>relu</td>\n",
       "      <td>[30]</td>\n",
       "      <td>sgd</td>\n",
       "      <td>0.831168</td>\n",
       "      <td>0.004952</td>\n",
       "      <td>0.787602</td>\n",
       "      <td>0.009065</td>\n",
       "    </tr>\n",
       "    <tr>\n",
       "      <td>relu</td>\n",
       "      <td>[30]</td>\n",
       "      <td>adam</td>\n",
       "      <td>0.999775</td>\n",
       "      <td>0.000122</td>\n",
       "      <td>0.783343</td>\n",
       "      <td>0.010603</td>\n",
       "    </tr>\n",
       "    <tr>\n",
       "      <td>relu</td>\n",
       "      <td>[40]</td>\n",
       "      <td>sgd</td>\n",
       "      <td>0.832111</td>\n",
       "      <td>0.002305</td>\n",
       "      <td>0.788562</td>\n",
       "      <td>0.008462</td>\n",
       "    </tr>\n",
       "    <tr>\n",
       "      <td>relu</td>\n",
       "      <td>[40]</td>\n",
       "      <td>adam</td>\n",
       "      <td>0.999775</td>\n",
       "      <td>0.000122</td>\n",
       "      <td>0.787857</td>\n",
       "      <td>0.010781</td>\n",
       "    </tr>\n",
       "    <tr>\n",
       "      <td>relu</td>\n",
       "      <td>[50]</td>\n",
       "      <td>sgd</td>\n",
       "      <td>0.830990</td>\n",
       "      <td>0.002244</td>\n",
       "      <td>0.789088</td>\n",
       "      <td>0.010419</td>\n",
       "    </tr>\n",
       "    <tr>\n",
       "      <td>relu</td>\n",
       "      <td>[50]</td>\n",
       "      <td>adam</td>\n",
       "      <td>0.999775</td>\n",
       "      <td>0.000050</td>\n",
       "      <td>0.786470</td>\n",
       "      <td>0.012338</td>\n",
       "    </tr>\n",
       "    <tr>\n",
       "      <td>relu</td>\n",
       "      <td>[100]</td>\n",
       "      <td>sgd</td>\n",
       "      <td>0.833644</td>\n",
       "      <td>0.003890</td>\n",
       "      <td>0.789021</td>\n",
       "      <td>0.012364</td>\n",
       "    </tr>\n",
       "    <tr>\n",
       "      <td>relu</td>\n",
       "      <td>[100]</td>\n",
       "      <td>adam</td>\n",
       "      <td>0.999775</td>\n",
       "      <td>0.000050</td>\n",
       "      <td>0.790802</td>\n",
       "      <td>0.007089</td>\n",
       "    </tr>\n",
       "    <tr>\n",
       "      <td>relu</td>\n",
       "      <td>[20, 20]</td>\n",
       "      <td>sgd</td>\n",
       "      <td>0.875423</td>\n",
       "      <td>0.004659</td>\n",
       "      <td>0.792070</td>\n",
       "      <td>0.012700</td>\n",
       "    </tr>\n",
       "    <tr>\n",
       "      <td>relu</td>\n",
       "      <td>[20, 20]</td>\n",
       "      <td>adam</td>\n",
       "      <td>0.999700</td>\n",
       "      <td>0.000170</td>\n",
       "      <td>0.781322</td>\n",
       "      <td>0.010611</td>\n",
       "    </tr>\n",
       "    <tr>\n",
       "      <td>relu</td>\n",
       "      <td>[30, 30]</td>\n",
       "      <td>sgd</td>\n",
       "      <td>0.879266</td>\n",
       "      <td>0.005253</td>\n",
       "      <td>0.789978</td>\n",
       "      <td>0.012333</td>\n",
       "    </tr>\n",
       "    <tr>\n",
       "      <td>relu</td>\n",
       "      <td>[30, 30]</td>\n",
       "      <td>adam</td>\n",
       "      <td>0.999800</td>\n",
       "      <td>0.000100</td>\n",
       "      <td>0.782956</td>\n",
       "      <td>0.017925</td>\n",
       "    </tr>\n",
       "    <tr>\n",
       "      <td>relu</td>\n",
       "      <td>[40, 40]</td>\n",
       "      <td>sgd</td>\n",
       "      <td>0.881432</td>\n",
       "      <td>0.002439</td>\n",
       "      <td>0.791827</td>\n",
       "      <td>0.012657</td>\n",
       "    </tr>\n",
       "    <tr>\n",
       "      <td>relu</td>\n",
       "      <td>[40, 40]</td>\n",
       "      <td>adam</td>\n",
       "      <td>0.994124</td>\n",
       "      <td>0.011316</td>\n",
       "      <td>0.772400</td>\n",
       "      <td>0.012827</td>\n",
       "    </tr>\n",
       "    <tr>\n",
       "      <td>relu</td>\n",
       "      <td>[50, 50]</td>\n",
       "      <td>sgd</td>\n",
       "      <td>0.884485</td>\n",
       "      <td>0.002285</td>\n",
       "      <td>0.788887</td>\n",
       "      <td>0.012105</td>\n",
       "    </tr>\n",
       "    <tr>\n",
       "      <td>relu</td>\n",
       "      <td>[50, 50]</td>\n",
       "      <td>adam</td>\n",
       "      <td>0.999575</td>\n",
       "      <td>0.000331</td>\n",
       "      <td>0.783754</td>\n",
       "      <td>0.009988</td>\n",
       "    </tr>\n",
       "    <tr>\n",
       "      <td>relu</td>\n",
       "      <td>[100, 100]</td>\n",
       "      <td>sgd</td>\n",
       "      <td>0.888301</td>\n",
       "      <td>0.003972</td>\n",
       "      <td>0.793878</td>\n",
       "      <td>0.013263</td>\n",
       "    </tr>\n",
       "    <tr>\n",
       "      <td>relu</td>\n",
       "      <td>[100, 100]</td>\n",
       "      <td>adam</td>\n",
       "      <td>0.999800</td>\n",
       "      <td>0.000100</td>\n",
       "      <td>0.791983</td>\n",
       "      <td>0.006687</td>\n",
       "    </tr>\n",
       "    <tr>\n",
       "      <td>relu</td>\n",
       "      <td>[20, 100, 20]</td>\n",
       "      <td>sgd</td>\n",
       "      <td>0.916142</td>\n",
       "      <td>0.003026</td>\n",
       "      <td>0.788965</td>\n",
       "      <td>0.012801</td>\n",
       "    </tr>\n",
       "    <tr>\n",
       "      <td>relu</td>\n",
       "      <td>[20, 100, 20]</td>\n",
       "      <td>adam</td>\n",
       "      <td>0.998975</td>\n",
       "      <td>0.001428</td>\n",
       "      <td>0.774115</td>\n",
       "      <td>0.009875</td>\n",
       "    </tr>\n",
       "    <tr>\n",
       "      <td>relu</td>\n",
       "      <td>[30, 100, 30]</td>\n",
       "      <td>sgd</td>\n",
       "      <td>0.931179</td>\n",
       "      <td>0.025559</td>\n",
       "      <td>0.791932</td>\n",
       "      <td>0.011817</td>\n",
       "    </tr>\n",
       "    <tr>\n",
       "      <td>relu</td>\n",
       "      <td>[30, 100, 30]</td>\n",
       "      <td>adam</td>\n",
       "      <td>0.999800</td>\n",
       "      <td>0.000100</td>\n",
       "      <td>0.781765</td>\n",
       "      <td>0.008074</td>\n",
       "    </tr>\n",
       "    <tr>\n",
       "      <td>relu</td>\n",
       "      <td>[40, 100, 40]</td>\n",
       "      <td>sgd</td>\n",
       "      <td>0.937090</td>\n",
       "      <td>0.009856</td>\n",
       "      <td>0.788175</td>\n",
       "      <td>0.012127</td>\n",
       "    </tr>\n",
       "    <tr>\n",
       "      <td>relu</td>\n",
       "      <td>[40, 100, 40]</td>\n",
       "      <td>adam</td>\n",
       "      <td>0.993145</td>\n",
       "      <td>0.013148</td>\n",
       "      <td>0.775810</td>\n",
       "      <td>0.013378</td>\n",
       "    </tr>\n",
       "    <tr>\n",
       "      <td>relu</td>\n",
       "      <td>[50, 100, 50]</td>\n",
       "      <td>sgd</td>\n",
       "      <td>0.953007</td>\n",
       "      <td>0.009703</td>\n",
       "      <td>0.784462</td>\n",
       "      <td>0.005014</td>\n",
       "    </tr>\n",
       "    <tr>\n",
       "      <td>relu</td>\n",
       "      <td>[50, 100, 50]</td>\n",
       "      <td>adam</td>\n",
       "      <td>0.999725</td>\n",
       "      <td>0.000094</td>\n",
       "      <td>0.784841</td>\n",
       "      <td>0.008778</td>\n",
       "    </tr>\n",
       "    <tr>\n",
       "      <td>relu</td>\n",
       "      <td>[100, 50, 100]</td>\n",
       "      <td>sgd</td>\n",
       "      <td>0.975059</td>\n",
       "      <td>0.006124</td>\n",
       "      <td>0.790174</td>\n",
       "      <td>0.014082</td>\n",
       "    </tr>\n",
       "    <tr>\n",
       "      <td>relu</td>\n",
       "      <td>[100, 50, 100]</td>\n",
       "      <td>adam</td>\n",
       "      <td>0.999775</td>\n",
       "      <td>0.000123</td>\n",
       "      <td>0.785582</td>\n",
       "      <td>0.012523</td>\n",
       "    </tr>\n",
       "  </tbody>\n",
       "</table>\n",
       "</div>"
      ],
      "text/plain": [
       "           hidden_layer_sizes solver  Training score       +/-  Test score  \\\n",
       "Activation                                                                   \n",
       "tanh                     [20]    sgd        0.829324  0.002809    0.786419   \n",
       "tanh                     [20]   adam        0.998550  0.000187    0.779797   \n",
       "tanh                     [30]    sgd        0.831733  0.003001    0.787483   \n",
       "tanh                     [30]   adam        0.999175  0.000218    0.776427   \n",
       "tanh                     [40]    sgd        0.829512  0.002872    0.788576   \n",
       "tanh                     [40]   adam        0.999325  0.000170    0.779501   \n",
       "tanh                     [50]    sgd        0.831243  0.004409    0.788691   \n",
       "tanh                     [50]   adam        0.999450  0.000100    0.779254   \n",
       "tanh                    [100]    sgd        0.831342  0.003539    0.788204   \n",
       "tanh                    [100]   adam        0.999625  0.000158    0.775079   \n",
       "tanh                 [20, 20]    sgd        0.864105  0.002963    0.786364   \n",
       "tanh                 [20, 20]   adam        0.999725  0.000094    0.762777   \n",
       "tanh                 [30, 30]    sgd        0.862169  0.002870    0.784115   \n",
       "tanh                 [30, 30]   adam        0.999675  0.000170    0.756419   \n",
       "tanh                 [40, 40]    sgd        0.861579  0.002570    0.784113   \n",
       "tanh                 [40, 40]   adam        0.999150  0.000556    0.754887   \n",
       "tanh                 [50, 50]    sgd        0.863650  0.003328    0.784492   \n",
       "tanh                 [50, 50]   adam        0.999325  0.000915    0.756934   \n",
       "tanh               [100, 100]    sgd        0.862588  0.001995    0.786150   \n",
       "tanh               [100, 100]   adam        0.997753  0.002764    0.760080   \n",
       "tanh            [20, 100, 20]    sgd        0.878501  0.001564    0.777138   \n",
       "tanh            [20, 100, 20]   adam        0.996325  0.001624    0.740255   \n",
       "tanh            [30, 100, 30]    sgd        0.879905  0.001659    0.775741   \n",
       "tanh            [30, 100, 30]   adam        0.996572  0.002634    0.745120   \n",
       "tanh            [40, 100, 40]    sgd        0.878169  0.002314    0.777225   \n",
       "tanh            [40, 100, 40]   adam        0.995687  0.004879    0.752852   \n",
       "tanh            [50, 100, 50]    sgd        0.878074  0.003611    0.775072   \n",
       "tanh            [50, 100, 50]   adam        0.998175  0.000919    0.749382   \n",
       "tanh           [100, 50, 100]    sgd        0.877755  0.003206    0.776953   \n",
       "tanh           [100, 50, 100]   adam        0.999750  0.000079    0.758521   \n",
       "relu                     [20]    sgd        0.831869  0.002209    0.786448   \n",
       "relu                     [20]   adam        0.999625  0.000137    0.778255   \n",
       "relu                     [30]    sgd        0.831168  0.004952    0.787602   \n",
       "relu                     [30]   adam        0.999775  0.000122    0.783343   \n",
       "relu                     [40]    sgd        0.832111  0.002305    0.788562   \n",
       "relu                     [40]   adam        0.999775  0.000122    0.787857   \n",
       "relu                     [50]    sgd        0.830990  0.002244    0.789088   \n",
       "relu                     [50]   adam        0.999775  0.000050    0.786470   \n",
       "relu                    [100]    sgd        0.833644  0.003890    0.789021   \n",
       "relu                    [100]   adam        0.999775  0.000050    0.790802   \n",
       "relu                 [20, 20]    sgd        0.875423  0.004659    0.792070   \n",
       "relu                 [20, 20]   adam        0.999700  0.000170    0.781322   \n",
       "relu                 [30, 30]    sgd        0.879266  0.005253    0.789978   \n",
       "relu                 [30, 30]   adam        0.999800  0.000100    0.782956   \n",
       "relu                 [40, 40]    sgd        0.881432  0.002439    0.791827   \n",
       "relu                 [40, 40]   adam        0.994124  0.011316    0.772400   \n",
       "relu                 [50, 50]    sgd        0.884485  0.002285    0.788887   \n",
       "relu                 [50, 50]   adam        0.999575  0.000331    0.783754   \n",
       "relu               [100, 100]    sgd        0.888301  0.003972    0.793878   \n",
       "relu               [100, 100]   adam        0.999800  0.000100    0.791983   \n",
       "relu            [20, 100, 20]    sgd        0.916142  0.003026    0.788965   \n",
       "relu            [20, 100, 20]   adam        0.998975  0.001428    0.774115   \n",
       "relu            [30, 100, 30]    sgd        0.931179  0.025559    0.791932   \n",
       "relu            [30, 100, 30]   adam        0.999800  0.000100    0.781765   \n",
       "relu            [40, 100, 40]    sgd        0.937090  0.009856    0.788175   \n",
       "relu            [40, 100, 40]   adam        0.993145  0.013148    0.775810   \n",
       "relu            [50, 100, 50]    sgd        0.953007  0.009703    0.784462   \n",
       "relu            [50, 100, 50]   adam        0.999725  0.000094    0.784841   \n",
       "relu           [100, 50, 100]    sgd        0.975059  0.006124    0.790174   \n",
       "relu           [100, 50, 100]   adam        0.999775  0.000123    0.785582   \n",
       "\n",
       "                 +/-  \n",
       "Activation            \n",
       "tanh        0.011456  \n",
       "tanh        0.009030  \n",
       "tanh        0.007495  \n",
       "tanh        0.007817  \n",
       "tanh        0.010015  \n",
       "tanh        0.009812  \n",
       "tanh        0.008933  \n",
       "tanh        0.008967  \n",
       "tanh        0.008542  \n",
       "tanh        0.006827  \n",
       "tanh        0.013965  \n",
       "tanh        0.014914  \n",
       "tanh        0.015484  \n",
       "tanh        0.007632  \n",
       "tanh        0.014649  \n",
       "tanh        0.009639  \n",
       "tanh        0.012116  \n",
       "tanh        0.013755  \n",
       "tanh        0.010520  \n",
       "tanh        0.011530  \n",
       "tanh        0.012184  \n",
       "tanh        0.012522  \n",
       "tanh        0.017309  \n",
       "tanh        0.013375  \n",
       "tanh        0.011685  \n",
       "tanh        0.012981  \n",
       "tanh        0.008800  \n",
       "tanh        0.006517  \n",
       "tanh        0.008195  \n",
       "tanh        0.013667  \n",
       "relu        0.007899  \n",
       "relu        0.007160  \n",
       "relu        0.009065  \n",
       "relu        0.010603  \n",
       "relu        0.008462  \n",
       "relu        0.010781  \n",
       "relu        0.010419  \n",
       "relu        0.012338  \n",
       "relu        0.012364  \n",
       "relu        0.007089  \n",
       "relu        0.012700  \n",
       "relu        0.010611  \n",
       "relu        0.012333  \n",
       "relu        0.017925  \n",
       "relu        0.012657  \n",
       "relu        0.012827  \n",
       "relu        0.012105  \n",
       "relu        0.009988  \n",
       "relu        0.013263  \n",
       "relu        0.006687  \n",
       "relu        0.012801  \n",
       "relu        0.009875  \n",
       "relu        0.011817  \n",
       "relu        0.008074  \n",
       "relu        0.012127  \n",
       "relu        0.013378  \n",
       "relu        0.005014  \n",
       "relu        0.008778  \n",
       "relu        0.014082  \n",
       "relu        0.012523  "
      ]
     },
     "execution_count": 78,
     "metadata": {},
     "output_type": "execute_result"
    }
   ],
   "source": [
    "results = {}\n",
    "\n",
    "for i, params in enumerate(gs.cv_results_['params']):\n",
    "    results[i] = [params['activation'], \n",
    "                  params['hidden_layer_sizes'], \n",
    "                  params['solver'], \n",
    "                  gs.cv_results_['mean_train_score'][i],\n",
    "                  gs.cv_results_['std_train_score'][i],                  \n",
    "                  gs.cv_results_['mean_test_score'][i],\n",
    "                  gs.cv_results_['std_test_score'][i]\n",
    "                 ]\n",
    "\n",
    "df = pd.DataFrame.from_dict(results, orient='index', columns=['Activation', 'hidden_layer_sizes', 'solver', 'Training score', '+/-', 'Test score', '+/-'])\n",
    "    \n",
    "df.set_index('Activation', inplace=True)\n",
    "df"
   ]
  },
  {
   "cell_type": "code",
   "execution_count": 16,
   "metadata": {},
   "outputs": [
    {
     "name": "stdout",
     "output_type": "stream",
     "text": [
      "No Skill: ROC AUC=0.500\n",
      "Logistic: ROC AUC=0.964\n"
     ]
    },
    {
     "data": {
      "image/png": "[encoded data removed]",
      "text/plain": [
       "<Figure size 432x288 with 1 Axes>"
      ]
     },
     "metadata": {
      "needs_background": "light"
     },
     "output_type": "display_data"
    },
    {
     "name": "stdout",
     "output_type": "stream",
     "text": [
      "           Training score      +/-  Test score      +/-\n",
      "f1                0.89280  0.00198     0.89280  0.00756\n",
      "accuracy          0.89280  0.00188     0.89280  0.00753\n",
      "precision         0.89285  0.00483     0.89286  0.00910\n",
      "recall            0.89280  0.00188     0.89280  0.00985\n",
      "Total time: 3.1138696670532227\n"
     ]
    },
    {
     "data": {
      "text/plain": [
       "(0.8927965885110962,\n",
       " 0.001977490132301766,\n",
       " 0.8927958859837885,\n",
       " 0.007559400367000485,\n",
       " 3.1138696670532227)"
      ]
     },
     "execution_count": 16,
     "metadata": {},
     "output_type": "execute_result"
    },
    {
     "data": {
      "image/png": "[encoded data removed]",
      "text/plain": [
       "<Figure size 432x288 with 2 Axes>"
      ]
     },
     "metadata": {
      "needs_background": "light"
     },
     "output_type": "display_data"
    }
   ],
   "source": [
    "model_MLP(0,0,classifier=gs)"
   ]
  },
  {
   "cell_type": "code",
   "execution_count": 31,
   "metadata": {},
   "outputs": [
    {
     "name": "stdout",
     "output_type": "stream",
     "text": [
      "No Skill: ROC AUC=0.500\n",
      "Logistic: ROC AUC=0.737\n"
     ]
    },
    {
     "data": {
      "image/png": "[encoded data removed]",
      "text/plain": [
       "<Figure size 432x288 with 1 Axes>"
      ]
     },
     "metadata": {
      "needs_background": "light"
     },
     "output_type": "display_data"
    },
    {
     "name": "stdout",
     "output_type": "stream",
     "text": [
      "           Training score      +/-  Test score      +/-\n",
      "f1                0.67606  0.05051     0.66394  0.05358\n",
      "accuracy          0.68190  0.01744     0.67040  0.01707\n",
      "precision         0.69476  0.04991     0.68328  0.04832\n",
      "recall            0.68190  0.01744     0.67040  0.13533\n",
      "Total time: 2974.380010843277\n"
     ]
    },
    {
     "data": {
      "text/plain": [
       "(0.6760576429165082,\n",
       " 0.05051165532891921,\n",
       " 0.6639412311169848,\n",
       " 0.05357622277843823,\n",
       " 2974.380010843277)"
      ]
     },
     "execution_count": 31,
     "metadata": {},
     "output_type": "execute_result"
    },
    {
     "data": {
      "image/png": "[encoded data removed]",
      "text/plain": [
       "<Figure size 432x288 with 2 Axes>"
      ]
     },
     "metadata": {
      "needs_background": "light"
     },
     "output_type": "display_data"
    }
   ],
   "source": [
    "model_MLP(0,0,classifier=gs)"
   ]
  },
  {
   "cell_type": "code",
   "execution_count": 17,
   "metadata": {},
   "outputs": [
    {
     "name": "stdout",
     "output_type": "stream",
     "text": [
      "No Skill: ROC AUC=0.500\n",
      "Logistic: ROC AUC=0.863\n"
     ]
    },
    {
     "data": {
      "image/png": "[encoded data removed]",
      "text/plain": [
       "<Figure size 432x288 with 1 Axes>"
      ]
     },
     "metadata": {
      "needs_background": "light"
     },
     "output_type": "display_data"
    },
    {
     "name": "stdout",
     "output_type": "stream",
     "text": [
      "           Training score      +/-  Test score      +/-\n",
      "f1                 0.9992  0.00019     0.78688  0.00879\n",
      "accuracy           0.9992  0.00019     0.78690  0.00851\n",
      "precision          0.9992  0.00048     0.78703  0.01053\n",
      "recall             0.9992  0.00019     0.78690  0.01358\n",
      "Total time: 3100.5734584331512\n"
     ]
    },
    {
     "data": {
      "text/plain": [
       "(0.9991999998148439,\n",
       " 0.0001870835041879618,\n",
       " 0.7868764465210798,\n",
       " 0.008790070834953829,\n",
       " 3100.5734584331512)"
      ]
     },
     "execution_count": 17,
     "metadata": {},
     "output_type": "execute_result"
    },
    {
     "data": {
      "image/png": "[encoded data removed]",
      "text/plain": [
       "<Figure size 432x288 with 2 Axes>"
      ]
     },
     "metadata": {
      "needs_background": "light"
     },
     "output_type": "display_data"
    }
   ],
   "source": [
    "model_MLP(2,100,activation='relu', solver='sgd')"
   ]
  },
  {
   "cell_type": "markdown",
   "metadata": {},
   "source": [
    "### Reduced features"
   ]
  },
  {
   "cell_type": "markdown",
   "metadata": {},
   "source": [
    "#### Chi2 - 100 features"
   ]
  },
  {
   "cell_type": "code",
   "execution_count": 20,
   "metadata": {},
   "outputs": [],
   "source": [
    "X = loadHD5('FS_Chi2_100')"
   ]
  },
  {
   "cell_type": "code",
   "execution_count": 24,
   "metadata": {},
   "outputs": [
    {
     "name": "stdout",
     "output_type": "stream",
     "text": [
      "No Skill: ROC AUC=0.500\n",
      "Logistic: ROC AUC=0.831\n"
     ]
    },
    {
     "data": {
      "image/png": "[encoded data removed]",
      "text/plain": [
       "<Figure size 432x288 with 1 Axes>"
      ]
     },
     "metadata": {
      "needs_background": "light"
     },
     "output_type": "display_data"
    },
    {
     "name": "stdout",
     "output_type": "stream",
     "text": [
      "           Training score      +/-  Test score      +/-\n",
      "f1                0.76588  0.01093     0.75901  0.01532\n",
      "accuracy          0.76637  0.00134     0.75960  0.00905\n",
      "precision         0.76866  0.02480     0.76210  0.02666\n",
      "recall            0.76637  0.00134     0.75960  0.04989\n",
      "Total time: 109.49565577507019\n"
     ]
    },
    {
     "data": {
      "text/plain": [
       "(0.7658762601440279,\n",
       " 0.010926501229771428,\n",
       " 0.7590070699944845,\n",
       " 0.01531849758316237,\n",
       " 109.4966516494751)"
      ]
     },
     "execution_count": 24,
     "metadata": {},
     "output_type": "execute_result"
    },
    {
     "data": {
      "image/png": "[encoded data removed]",
      "text/plain": [
       "<Figure size 432x288 with 2 Axes>"
      ]
     },
     "metadata": {
      "needs_background": "light"
     },
     "output_type": "display_data"
    }
   ],
   "source": [
    "model_MLP(2,100,activation='relu', solver='sgd')"
   ]
  },
  {
   "cell_type": "markdown",
   "metadata": {},
   "source": [
    "#### F-value - 100"
   ]
  },
  {
   "cell_type": "code",
   "execution_count": 25,
   "metadata": {},
   "outputs": [],
   "source": [
    "X = loadHD5('FS_Fisher_100')"
   ]
  },
  {
   "cell_type": "code",
   "execution_count": 26,
   "metadata": {},
   "outputs": [
    {
     "name": "stdout",
     "output_type": "stream",
     "text": [
      "No Skill: ROC AUC=0.500\n",
      "Logistic: ROC AUC=0.838\n"
     ]
    },
    {
     "data": {
      "image/png": "[encoded data removed]",
      "text/plain": [
       "<Figure size 432x288 with 1 Axes>"
      ]
     },
     "metadata": {
      "needs_background": "light"
     },
     "output_type": "display_data"
    },
    {
     "name": "stdout",
     "output_type": "stream",
     "text": [
      "           Training score      +/-  Test score      +/-\n",
      "f1                0.76411  0.01269     0.75679  0.01360\n",
      "accuracy          0.76460  0.00574     0.75720  0.00913\n",
      "precision         0.76673  0.02393     0.75892  0.02306\n",
      "recall            0.76460  0.00574     0.75720  0.04174\n",
      "Total time: 117.36916494369507\n"
     ]
    },
    {
     "data": {
      "text/plain": [
       "(0.7641059751404626,\n",
       " 0.012694058914904766,\n",
       " 0.7567929938707827,\n",
       " 0.01360102886147857,\n",
       " 117.36916494369507)"
      ]
     },
     "execution_count": 26,
     "metadata": {},
     "output_type": "execute_result"
    },
    {
     "data": {
      "image/png": "[encoded data removed]",
      "text/plain": [
       "<Figure size 432x288 with 2 Axes>"
      ]
     },
     "metadata": {
      "needs_background": "light"
     },
     "output_type": "display_data"
    }
   ],
   "source": [
    "model_MLP(2,100,activation='relu', solver='sgd')"
   ]
  },
  {
   "cell_type": "markdown",
   "metadata": {},
   "source": [
    "#### Mutual Information - 100"
   ]
  },
  {
   "cell_type": "code",
   "execution_count": 27,
   "metadata": {},
   "outputs": [],
   "source": [
    "X = loadHD5('FS_Mutual_Information_100')"
   ]
  },
  {
   "cell_type": "code",
   "execution_count": 29,
   "metadata": {},
   "outputs": [
    {
     "name": "stdout",
     "output_type": "stream",
     "text": [
      "No Skill: ROC AUC=0.500\n",
      "Logistic: ROC AUC=0.741\n"
     ]
    },
    {
     "data": {
      "image/png": "[encoded data removed]",
      "text/plain": [
       "<Figure size 432x288 with 1 Axes>"
      ]
     },
     "metadata": {
      "needs_background": "light"
     },
     "output_type": "display_data"
    },
    {
     "name": "stdout",
     "output_type": "stream",
     "text": [
      "           Training score      +/-  Test score      +/-\n",
      "f1                0.69101  0.01118     0.67750  0.01506\n",
      "accuracy          0.69140  0.00185     0.67780  0.01130\n",
      "precision         0.69236  0.01368     0.67844  0.01543\n",
      "recall            0.69140  0.00185     0.67780  0.03229\n",
      "Total time: 160.18791508674622\n"
     ]
    },
    {
     "data": {
      "text/plain": [
       "(0.6910106093311044,\n",
       " 0.011175654033254377,\n",
       " 0.6775020977042328,\n",
       " 0.01506430250190932,\n",
       " 160.18791508674622)"
      ]
     },
     "execution_count": 29,
     "metadata": {},
     "output_type": "execute_result"
    },
    {
     "data": {
      "image/png": "[encoded data removed]",
      "text/plain": [
       "<Figure size 432x288 with 2 Axes>"
      ]
     },
     "metadata": {
      "needs_background": "light"
     },
     "output_type": "display_data"
    }
   ],
   "source": [
    "model_MLP(2,100,activation='relu', solver='sgd')"
   ]
  },
  {
   "cell_type": "markdown",
   "metadata": {},
   "source": [
    "#### LDA"
   ]
  },
  {
   "cell_type": "code",
   "execution_count": 11,
   "metadata": {},
   "outputs": [],
   "source": [
    "X = loadHD5('LDA_LSA_1500')"
   ]
  },
  {
   "cell_type": "code",
   "execution_count": 12,
   "metadata": {},
   "outputs": [
    {
     "name": "stdout",
     "output_type": "stream",
     "text": [
      "No Skill: ROC AUC=0.500\n",
      "Logistic: ROC AUC=0.932\n"
     ]
    },
    {
     "data": {
      "image/png": "[encoded data removed]",
      "text/plain": [
       "<Figure size 432x288 with 1 Axes>"
      ]
     },
     "metadata": {
      "needs_background": "light"
     },
     "output_type": "display_data"
    },
    {
     "name": "stdout",
     "output_type": "stream",
     "text": [
      "           Training score      +/-  Test score      +/-\n",
      "f1                0.85287  0.00231     0.85279  0.00764\n",
      "accuracy          0.85288  0.00200     0.85280  0.00748\n",
      "precision         0.85296  0.00597     0.85293  0.00997\n",
      "recall            0.85288  0.00200     0.85280  0.01219\n",
      "Total time: 11.107676982879639\n"
     ]
    },
    {
     "data": {
      "text/plain": [
       "(0.852865844738855,\n",
       " 0.0023064400012579346,\n",
       " 0.852785845637108,\n",
       " 0.007635558796928657,\n",
       " 11.107676982879639)"
      ]
     },
     "execution_count": 12,
     "metadata": {},
     "output_type": "execute_result"
    },
    {
     "data": {
      "image/png": "[encoded data removed]",
      "text/plain": [
       "<Figure size 432x288 with 2 Axes>"
      ]
     },
     "metadata": {
      "needs_background": "light"
     },
     "output_type": "display_data"
    }
   ],
   "source": [
    "model_MLP(2,100,activation='relu', solver='sgd')"
   ]
  },
  {
   "cell_type": "markdown",
   "metadata": {},
   "source": [
    "#### PCA - 700"
   ]
  },
  {
   "cell_type": "code",
   "execution_count": 13,
   "metadata": {},
   "outputs": [],
   "source": [
    "X = loadHD5('PCA_LSA_1500_700')"
   ]
  },
  {
   "cell_type": "code",
   "execution_count": 14,
   "metadata": {},
   "outputs": [
    {
     "name": "stdout",
     "output_type": "stream",
     "text": [
      "No Skill: ROC AUC=0.500\n",
      "Logistic: ROC AUC=0.863\n"
     ]
    },
    {
     "data": {
      "image/png": "[encoded data removed]",
      "text/plain": [
       "<Figure size 432x288 with 1 Axes>"
      ]
     },
     "metadata": {
      "needs_background": "light"
     },
     "output_type": "display_data"
    },
    {
     "name": "stdout",
     "output_type": "stream",
     "text": [
      "           Training score      +/-  Test score      +/-\n",
      "f1                 0.9988  0.00019     0.78568  0.01117\n",
      "accuracy           0.9988  0.00019     0.78570  0.01100\n",
      "precision          0.9988  0.00079     0.78579  0.01206\n",
      "recall             0.9988  0.00019     0.78570  0.01408\n",
      "Total time: 1184.9453575611115\n"
     ]
    },
    {
     "data": {
      "text/plain": [
       "(0.9987999992124992,\n",
       " 0.00018708632450322097,\n",
       " 0.785683253113555,\n",
       " 0.011170854367524734,\n",
       " 1184.9463543891907)"
      ]
     },
     "execution_count": 14,
     "metadata": {},
     "output_type": "execute_result"
    },
    {
     "data": {
      "image/png": "[encoded data removed]",
      "text/plain": [
       "<Figure size 432x288 with 2 Axes>"
      ]
     },
     "metadata": {
      "needs_background": "light"
     },
     "output_type": "display_data"
    }
   ],
   "source": [
    "model_MLP(2,100,activation='relu', solver='sgd')"
   ]
  }
 ],
 "metadata": {
  "kernelspec": {
   "display_name": "Python 3",
   "language": "python",
   "name": "python3"
  },
  "language_info": {
   "codemirror_mode": {
    "name": "ipython",
    "version": 3
   },
   "file_extension": ".py",
   "mimetype": "text/x-python",
   "name": "python",
   "nbconvert_exporter": "python",
   "pygments_lexer": "ipython3",
   "version": "3.7.4"
  }
 },
 "nbformat": 4,
 "nbformat_minor": 2
}
