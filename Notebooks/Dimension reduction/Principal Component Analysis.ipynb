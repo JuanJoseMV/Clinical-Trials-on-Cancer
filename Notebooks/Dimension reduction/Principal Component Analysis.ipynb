{
 "cells": [
  {
   "cell_type": "markdown",
   "metadata": {},
   "source": [
    "# Principal Component Analysis (PCA)"
   ]
  },
  {
   "cell_type": "markdown",
   "metadata": {},
   "source": []
  },
  {
   "cell_type": "code",
   "execution_count": 1,
   "metadata": {},
   "outputs": [],
   "source": [
    "import numpy as np # linear algebra\n",
    "import pandas as pd # data processing, CSV file I/O (e.g. pd.read_csv)\n",
    "import matplotlib.pyplot as plt\n",
    "import joblib\n",
    "from sklearn import preprocessing # LabelEncoder\n",
    "from sklearn.preprocessing import MinMaxScaler # Escala los datos\n",
    "from sklearn.model_selection import train_test_split \n",
    "from sklearn.metrics import accuracy_score\n",
    "from sklearn.metrics import precision_score\n",
    "from sklearn.metrics import recall_score\n",
    "from sklearn.metrics import f1_score\n",
    "from sklearn.metrics import classification_report\n",
    "import scikitplot as skplt \n",
    "from string import ascii_uppercase \n",
    "# import seaborn as sns\n",
    "import qgrid\n",
    "import time\n",
    "#from sklearn.externals import joblib # Para guardar el modelo\n",
    "from sklearn.metrics import roc_curve\n",
    "from sklearn.metrics import roc_auc_score\n",
    "\n",
    "from mlxtend.feature_selection import SequentialFeatureSelector as SFS\n",
    "from mlxtend.plotting import plot_sequential_feature_selection as plot_sfs\n",
    "from sklearn.pipeline import Pipeline as PIPELINE\n",
    "from sklearn.model_selection import GridSearchCV\n",
    "from sklearn.model_selection import StratifiedKFold\n",
    "\n",
    "from scipy import stats #Para la moda\n",
    "\n",
    "from sklearn.model_selection import ShuffleSplit\n",
    "from sklearn.decomposition import PCA"
   ]
  },
  {
   "cell_type": "code",
   "execution_count": 2,
   "metadata": {},
   "outputs": [],
   "source": [
    "def loadModel(path):    \n",
    "    clf = joblib.load(path)\n",
    "    \n",
    "    return clf;"
   ]
  },
  {
   "cell_type": "code",
   "execution_count": 3,
   "metadata": {},
   "outputs": [],
   "source": [
    "def saveModel(clf, name):\n",
    "    path = \"../../Models/\" + name + \".pkl\"\n",
    "    joblib.dump(clf, path) "
   ]
  },
  {
   "cell_type": "code",
   "execution_count": 4,
   "metadata": {},
   "outputs": [],
   "source": [
    "def loadCSV(pathSamples, pathMatrix):\n",
    "    df_loaded = pd.read_table(pathMatrix, sep=',')\n",
    "    data = pd.read_table(pathSamples, sep=',')\n",
    "    clin_trial_values = df_loaded.values\n",
    "    \n",
    "    Y = data['Eligible']\n",
    "    Y = Y.astype(int)\n",
    "    X = clin_trial_values[:, :]\n",
    "    return X, Y"
   ]
  },
  {
   "cell_type": "code",
   "execution_count": 5,
   "metadata": {},
   "outputs": [],
   "source": [
    "def saveMatrix(df, name):\n",
    "    path = '../../Tables/'\n",
    "    path += name + '.h5'\n",
    "    df.to_hdf(path, key='df', index=False)\n",
    "    return "
   ]
  },
  {
   "cell_type": "markdown",
   "metadata": {},
   "source": [
    "## LSA, 10k, sin caracteres especiales, 1500 Tópicos"
   ]
  },
  {
   "cell_type": "markdown",
   "metadata": {},
   "source": [
    "Latent Semantic Analysis con 10mil muestras. Uniendo las columnas \"Diagnoses\" e \"Interventions\". Eliminando todos los caracteres especiales y números de las muestras. 1500 tópicos."
   ]
  },
  {
   "cell_type": "code",
   "execution_count": 6,
   "metadata": {},
   "outputs": [],
   "source": [
    "X, Y = loadCSV(\"../../Dataset/10k_1Col_NoCarEsp_LSA.csv\", \"../../Tables/docsTopicsLSA1500.csv\") #Cargar SCV"
   ]
  },
  {
   "cell_type": "code",
   "execution_count": 12,
   "metadata": {},
   "outputs": [
    {
     "data": {
      "text/plain": [
       "PCA(n_components=1500)"
      ]
     },
     "execution_count": 12,
     "metadata": {},
     "output_type": "execute_result"
    }
   ],
   "source": [
    "pca = PCA(n_components=1500)\n",
    "pca.fit(X)"
   ]
  },
  {
   "cell_type": "code",
   "execution_count": 15,
   "metadata": {},
   "outputs": [
    {
     "data": {
      "image/png": "[encoded data removed]",
      "text/plain": [
       "<Figure size 432x288 with 1 Axes>"
      ]
     },
     "metadata": {
      "needs_background": "light"
     },
     "output_type": "display_data"
    }
   ],
   "source": [
    "plt.plot(np.cumsum(pca.explained_variance_/np.sum(pca.explained_variance_)))\n",
    "plt.axhline(y=0.90, color='r', linestyle='-')\n",
    "plt.title('Varianza acumulada')\n",
    "plt.xlabel('Componentes principales')\n",
    "plt.ylabel('Porcentaje de varianza acumulada')\n",
    "plt.grid()"
   ]
  },
  {
   "cell_type": "code",
   "execution_count": 16,
   "metadata": {},
   "outputs": [
    {
     "data": {
      "text/plain": [
       "[<matplotlib.lines.Line2D at 0x215f4533188>]"
      ]
     },
     "execution_count": 16,
     "metadata": {},
     "output_type": "execute_result"
    },
    {
     "data": {
      "image/png": "[encoded data removed]",
      "text/plain": [
       "<Figure size 432x288 with 1 Axes>"
      ]
     },
     "metadata": {
      "needs_background": "light"
     },
     "output_type": "display_data"
    }
   ],
   "source": [
    "plt.plot(pca.explained_variance_)"
   ]
  },
  {
   "cell_type": "code",
   "execution_count": 7,
   "metadata": {},
   "outputs": [
    {
     "data": {
      "text/plain": [
       "PCA(n_components=700)"
      ]
     },
     "execution_count": 7,
     "metadata": {},
     "output_type": "execute_result"
    }
   ],
   "source": [
    "pca = PCA(n_components=700)\n",
    "pca.fit(X)"
   ]
  },
  {
   "cell_type": "code",
   "execution_count": 8,
   "metadata": {},
   "outputs": [
    {
     "data": {
      "text/plain": [
       "array([[ 0.8424927 ,  0.03344857,  0.14228583, ...,  0.02048427,\n",
       "         0.03890684, -0.02375605],\n",
       "       [-0.58594965,  0.21933065,  0.73570762, ..., -0.06588563,\n",
       "        -0.0436784 , -0.02001103],\n",
       "       [-0.06532143, -0.56902027, -0.09521608, ...,  0.02974367,\n",
       "        -0.03650806,  0.02226679],\n",
       "       ...,\n",
       "       [ 0.11464855, -0.38507234,  0.01463012, ...,  0.06126262,\n",
       "        -0.02524635,  0.045008  ],\n",
       "       [ 0.26048747,  0.25151707, -0.36414781, ..., -0.01653245,\n",
       "         0.01954882, -0.04121143],\n",
       "       [-0.95068146, -0.40395073,  0.08370907, ..., -0.02255881,\n",
       "         0.0274548 , -0.02830098]])"
      ]
     },
     "execution_count": 8,
     "metadata": {},
     "output_type": "execute_result"
    }
   ],
   "source": [
    "newX = pca.fit_transform(X)\n",
    "newX"
   ]
  },
  {
   "cell_type": "code",
   "execution_count": 10,
   "metadata": {},
   "outputs": [],
   "source": [
    "saveMatrix(pd.DataFrame(newX), \"PCA_LSA_1500\")"
   ]
  }
 ],
 "metadata": {
  "kernelspec": {
   "display_name": "Python 3",
   "language": "python",
   "name": "python3"
  },
  "language_info": {
   "codemirror_mode": {
    "name": "ipython",
    "version": 3
   },
   "file_extension": ".py",
   "mimetype": "text/x-python",
   "name": "python",
   "nbconvert_exporter": "python",
   "pygments_lexer": "ipython3",
   "version": "3.7.4"
  }
 },
 "nbformat": 4,
 "nbformat_minor": 2
}
