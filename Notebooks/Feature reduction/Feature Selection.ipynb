{
 "cells": [
  {
   "cell_type": "markdown",
   "metadata": {},
   "source": [
    "# Feature Selection"
   ]
  },
  {
   "cell_type": "markdown",
   "metadata": {},
   "source": []
  },
  {
   "cell_type": "code",
   "execution_count": null,
   "metadata": {},
   "outputs": [],
   "source": [
    "import numpy as np # linear algebra\n",
    "import pandas as pd # data processing, CSV file I/O (e.g. pd.read_csv)\n",
    "import matplotlib.pyplot as plt\n",
    "from sklearn import preprocessing # LabelEncoder\n",
    "from sklearn.preprocessing import MinMaxScaler # Escala los datos\n",
    "from sklearn.model_selection import train_test_split \n",
    "from sklearn.metrics import accuracy_score\n",
    "from sklearn.metrics import precision_score\n",
    "from sklearn.metrics import recall_score\n",
    "from sklearn.metrics import f1_score\n",
    "from sklearn.metrics import classification_report\n",
    "import scikitplot as skplt \n",
    "from string import ascii_uppercase \n",
    "# import seaborn as sns\n",
    "import qgrid\n",
    "import time\n",
    "#from sklearn.externals import joblib # Para guardar el modelo\n",
    "from sklearn.metrics import roc_curve\n",
    "from sklearn.metrics import roc_auc_score\n",
    "\n",
    "from mlxtend.feature_selection import SequentialFeatureSelector as SFS\n",
    "from mlxtend.plotting import plot_sequential_feature_selection as plot_sfs\n",
    "\n",
    "from scipy import stats #Para la moda\n",
    "\n",
    "from sklearn.model_selection import ShuffleSplit"
   ]
  },
  {
   "cell_type": "code",
   "execution_count": null,
   "metadata": {},
   "outputs": [],
   "source": [
    "def loadCSV(pathSamples, pathMatrix):\n",
    "    df_loaded = pd.read_table(pathMatrix, sep=',')\n",
    "    data = pd.read_table(pathSamples, sep=',')\n",
    "    clin_trial_values = df_loaded.values\n",
    "    \n",
    "    Y = data['Eligible']\n",
    "    Y = Y.astype(int)\n",
    "    X = clin_trial_values[:, :]"
   ]
  },
  {
   "cell_type": "code",
   "execution_count": null,
   "metadata": {},
   "outputs": [],
   "source": [
    "def select_features(modelo, n_features, fwd, fltg):\n",
    "\n",
    "    sfs = SFS(modelo, \n",
    "           k_features=n_features,\n",
    "           forward=fwd,\n",
    "           floating=fltg,\n",
    "           verbose=1,\n",
    "           scoring='accuracy',\n",
    "           cv=0,\n",
    "           n_jobs=-1)\n",
    "    \n",
    "    return sfs"
   ]
  },
  {
   "cell_type": "code",
   "execution_count": null,
   "metadata": {},
   "outputs": [],
   "source": [
    "def selection(features, model):\n",
    "    \n",
    "    fwd = True\n",
    "    fltg = True\n",
    "        \n",
    "    #Para calcular el costo computacional\n",
    "    tiempo_i = time.time()\n",
    "\n",
    "    accuracy_list = np.zeros([4])\n",
    "    precision_list = np.zeros([4,2])\n",
    "    recall_list = np.zeros([4,2])\n",
    "    f_list = np.zeros([4,2])\n",
    "    \n",
    "    feature_list = [] #Para guardar los indices de las características que eligió en cada iteración\n",
    "    XN_list = [] #Para guardar los diferentes X\n",
    "    sf_list = []\n",
    "    \n",
    "    #Implemetamos la metodología de validación \n",
    "\n",
    "    Errores = np.ones(4)\n",
    "    j = 0\n",
    "    \n",
    "    for j in range(4):\n",
    "\n",
    "        Xtrain, Xtest, Ytrain, Ytest = train_test_split(X, Y, test_size=0.25) # Modificar metodología de validación\n",
    "        scaler = MinMaxScaler()#Escala entre 0 y 1\n",
    "        Xtrain = scaler.fit_transform(Xtrain)\n",
    "        Xtest = scaler.transform(Xtest)\n",
    "\n",
    "        sf = select_features(model, features, fwd, fltg)\n",
    "        sf =  sf.fit(Xtrain, Ytrain)\n",
    "\n",
    "        X_train_sfs = sf.transform(Xtrain)\n",
    "        X_test_sfs = sf.transform(Xtest)\n",
    "        XN = sf.transform(X)\n",
    "\n",
    "        model.fit(X_train_sfs, Ytrain)\n",
    "        pred = model.predict(X_test_sfs)\n",
    "        \n",
    "        #code for calculating accuracy \n",
    "        _accuracy_ = accuracy_score(Ytest, pred, normalize=True)\n",
    "        accuracy_list[j] = _accuracy_\n",
    "\n",
    "        #code for calculating recall \n",
    "        _recalls_ = recall_score(Ytest, pred, average=None)\n",
    "        recall_list[j] = _recalls_\n",
    "\n",
    "        #code for calculating precision \n",
    "        _precisions_ = precision_score(Ytest, pred, average=None)\n",
    "        precision_list[j] = _precisions_\n",
    "        \n",
    "        _f_score_ = f1_score(Ytest, pred, average=None)\n",
    "        f_list[j] = _f_score_\n",
    "\n",
    "        Errores[j] = classification_error(pred, Ytest)\n",
    "        \n",
    "        feature_list.extend(sf.k_feature_idx_)\n",
    "        \n",
    "        XN_list.append(XN)\n",
    "        sf_list.append(sf)\n",
    "    \n",
    "    \n",
    "    index = np.where(accuracy_list == np.amax(accuracy_list)) #Busca cual es el resultado más grande en la lista de accuracy(eficiencia)   \n",
    "    idx = index[0][0] #pasa el índice de array a entero   \n",
    "    XN = XN_list[idx] #Selecciona el mejor X \n",
    "    sf = sf_list[idx] #índices de las mejores características\n",
    "    \n",
    "    mode, count = stats.mode(feature_list) #primer retorno es un vector con las modas, el segundo son las repeticiones\n",
    "    \n",
    "    return mode, count, XN, sf, str(np.mean(accuracy_list)), str(np.std(accuracy_list)), str(np.mean(recall_list)), str(np.std(recall_list)), str(np.mean(precision_list)), str(np.std(precision_list)),  str(np.mean(f_list)), str(np.std(f_list)), str(np.mean(Errores)), str(np.std(Errores)), str(time.time()-tiempo_i)"
   ]
  },
  {
   "cell_type": "markdown",
   "metadata": {},
   "source": [
    "# LSA 10k_1Col_NoCarEsp"
   ]
  },
  {
   "cell_type": "code",
   "execution_count": null,
   "metadata": {},
   "outputs": [],
   "source": [
    "loadCSV(\"../../Dataset/10k_1Col_NoCarEsp_LSA.csv\", \"../../Tables/docsTopicsLSA1200.csv\") #Cargar SCV"
   ]
  },
  {
   "cell_type": "code",
   "execution_count": null,
   "metadata": {},
   "outputs": [],
   "source": [
    "pd.options.mode.chained_assignment = None\n",
    "\n",
    "randn = np.random.randn\n",
    "df_types = pd.DataFrame({'# de características seleccionadas' : pd.Series([200,300])})\n",
    "df_types[\"Eficiencia\"] = \"\"\n",
    "df_types[\"Int_Eficiencia\"] = \"\"\n",
    "df_types[\"Sensibilidad\"] = \"\"\n",
    "df_types[\"Int_Sensibilidad\"] = \"\"\n",
    "df_types[\"Precision\"] = \"\"\n",
    "df_types[\"Int_Precision\"] = \"\"\n",
    "df_types[\"F-Score\"] = \"\"\n",
    "df_types[\"Int_F-Score\"] = \"\"\n",
    "df_types[\"Error_Prueba\"] = \"\"\n",
    "df_types[\"Int_error\"] = \"\"\n",
    "df_types[\"Tiempo de ejecución\"] = \"\"\n",
    "df_types.set_index(['# de características seleccionadas'], inplace=True)\n",
    "\n",
    "for k in df_types.index:\n",
    "    mode, count, XN, sf, Acc, IntAcc, Sen, IntSen, Pre, IntPre, f, IntF, error, stdError, tiempo = selection(k)\n",
    "    print(k)\n",
    "    print(sf.k_feature_idx_)\n",
    "    df_types[\"Eficiencia\"][k] = Acc\n",
    "    df_types[\"Int_Eficiencia\"][k] = IntAcc\n",
    "    df_types[\"Sensibilidad\"][k] = Sen\n",
    "    df_types[\"Int_Sensibilidad\"][k] = IntSen\n",
    "    df_types[\"Precision\"][k] = Pre\n",
    "    df_types[\"Int_Precision\"][k] = IntPre\n",
    "    df_types[\"F-Score\"][k] = f\n",
    "    df_types[\"Int_F-Score\"][k] = IntF\n",
    "    df_types[\"Error_Prueba\"][k] = error\n",
    "    df_types[\"Int_error\"][k] = stdError\n",
    "    df_types[\"Tiempo de ejecución\"][k] = tiempo\n",
    "    \n",
    "qgrid_widget = qgrid.show_grid(df_types, show_toolbar=False)"
   ]
  },
  {
   "cell_type": "code",
   "execution_count": null,
   "metadata": {},
   "outputs": [],
   "source": [
    "mode, count, XN, sf, Acc, IntAcc, Sen, IntSen, Pre, IntPre, f, IntF, error, stdError, tiempo = selection(100)"
   ]
  },
  {
   "cell_type": "markdown",
   "metadata": {},
   "source": [
    "\n",
    "## LSA, 10k, sin caracteres especiales, 1500 Tópicos\n"
   ]
  },
  {
   "cell_type": "markdown",
   "metadata": {},
   "source": [
    "Latent Semantic Analysis con 10mil muestras. Uniendo las columnas \"Diagnoses\" e \"Interventions\". Eliminando todos los caracteres especiales y números de las muestras. 1500 tópicos."
   ]
  },
  {
   "cell_type": "code",
   "execution_count": null,
   "metadata": {},
   "outputs": [],
   "source": [
    "loadCSV(\"../../Dataset/10k_1Col_NoCarEsp_LSA.csv\", \"../../Tables/docsTopicsLSA1200.csv\") #Cargar SCV"
   ]
  }
 ],
 "metadata": {
  "kernelspec": {
   "display_name": "Python 3",
   "language": "python",
   "name": "python3"
  },
  "language_info": {
   "codemirror_mode": {
    "name": "ipython",
    "version": 3
   },
   "file_extension": ".py",
   "mimetype": "text/x-python",
   "name": "python",
   "nbconvert_exporter": "python",
   "pygments_lexer": "ipython3",
   "version": "3.7.4"
  }
 },
 "nbformat": 4,
 "nbformat_minor": 2
}
