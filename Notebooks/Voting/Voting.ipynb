{
 "cells": [
  {
   "cell_type": "markdown",
   "metadata": {},
   "source": [
    "# Voting\n"
   ]
  },
  {
   "cell_type": "markdown",
   "metadata": {},
   "source": []
  },
  {
   "cell_type": "code",
   "execution_count": 23,
   "metadata": {},
   "outputs": [],
   "source": [
    "import time\n",
    "import numpy as np\n",
    "import pandas as pd\n",
    "from sklearn.model_selection import learning_curve\n",
    "from sklearn.model_selection import ShuffleSplit\n",
    "from sklearn.metrics import f1_score, make_scorer\n",
    "from sklearn.metrics import accuracy_score\n",
    "from sklearn.linear_model import LogisticRegression\n",
    "from sklearn.naive_bayes import GaussianNB\n",
    "from sklearn.ensemble import RandomForestClassifier, VotingClassifier"
   ]
  },
  {
   "cell_type": "code",
   "execution_count": 3,
   "metadata": {},
   "outputs": [],
   "source": [
    "def loadCSV(pathSamples, pathMatrix):\n",
    "    df_loaded = pd.read_table(pathMatrix, sep=',')\n",
    "    data = pd.read_table(pathSamples, sep=',')\n",
    "    clin_trial_values = df_loaded.values\n",
    "    \n",
    "    Y = data['Eligible']\n",
    "    Y = Y.astype(int)\n",
    "    X = clin_trial_values[:, :]\n",
    "    return X, Y;"
   ]
  },
  {
   "cell_type": "code",
   "execution_count": 4,
   "metadata": {},
   "outputs": [],
   "source": [
    "X, Y = loadCSV(\"../../Dataset/10k_1Col_NoCarEsp_LSA.csv\", \"../../Tables/docsTopicsLSA1200.csv\") #Cargar SCV"
   ]
  },
  {
   "cell_type": "code",
   "execution_count": 5,
   "metadata": {},
   "outputs": [],
   "source": [
    "LR = LogisticRegression(C=.5, solver='saga', max_iter = 200)\n",
    "nb = GaussianNB()\n",
    "RF = RandomForestClassifier(n_estimators=100, max_features =100, n_jobs = -1)"
   ]
  },
  {
   "cell_type": "code",
   "execution_count": 6,
   "metadata": {},
   "outputs": [],
   "source": [
    "eclf_hard = VotingClassifier(estimators=[('lr', LR), ('rf', nb), ('gnb', RF)], voting='hard')\n",
    "eclf_soft = VotingClassifier(estimators=[('lr', LR), ('rf', nb), ('gnb', RF)], voting='soft')"
   ]
  },
  {
   "cell_type": "code",
   "execution_count": 29,
   "metadata": {},
   "outputs": [
    {
     "name": "stdout",
     "output_type": "stream",
     "text": [
      "Hard train accuracy:  0.9346875000000001  +/-  0.00396518048139048 . Time:  18.442303895950317\n",
      "Hard test accuracy:  0.708625  +/-  0.008897857888278515 . Time:  18.442303895950317\n",
      "Soft train accuracy:  0.8293750000000001  +/-  0.013571281719130317 . Time:  19.937783241271973\n",
      "Soft test accuracy:  0.651125  +/-  0.01529859062136117 . Time:  19.937783241271973\n"
     ]
    }
   ],
   "source": [
    "cv = ShuffleSplit(n_splits=4, test_size=0.2, random_state=0)\n",
    "\n",
    "start_hard = time.time()\n",
    "## Hard\n",
    "train_sizes_hard, train_scores_hard, test_scores_hard, fit_times_hard, _ = \\\n",
    "    learning_curve(eclf_hard, X, Y, cv=cv, n_jobs=-1,\n",
    "                   train_sizes=[.2],\n",
    "                   return_times=True)\n",
    "end_hard = time.time()\n",
    "\n",
    "start_soft = time.time()\n",
    "## Soft\n",
    "train_sizes_soft, train_scores_soft, test_scores_soft, fit_times_soft, _ = \\\n",
    "    learning_curve(eclf_soft, X, Y, cv=cv, n_jobs=-1,\n",
    "                   train_sizes=[.2],\n",
    "                   return_times=True)\n",
    "end_soft = time.time()\n",
    "\n",
    "print('Hard train accuracy: ', np.mean(train_scores_hard), ' +/- ', np.std(train_scores_hard), \". Time: \", end_hard - start_hard)\n",
    "print('Hard test accuracy: ', np.mean(test_scores_hard), ' +/- ', np.std(test_scores_hard), \". Time: \", end_hard - start_hard)\n",
    "\n",
    "print('Soft train accuracy: ', np.mean(train_scores_soft), ' +/- ', np.std(train_scores_soft), \". Time: \", end_soft - start_soft)\n",
    "print('Soft test accuracy: ', np.mean(test_scores_soft), ' +/- ', np.std(test_scores_soft), \". Time: \", end_soft - start_soft)"
   ]
  },
  {
   "cell_type": "code",
   "execution_count": 30,
   "metadata": {},
   "outputs": [
    {
     "name": "stdout",
     "output_type": "stream",
     "text": [
      "Hard train F1 score:  0.9369086346246075  +/-  0.003925959362210268 . Time:  20.114948272705078\n",
      "Hard test F1 score:  0.7303542980511957  +/-  0.005675625132246841 . Time:  20.114948272705078\n",
      "Soft train F1 score:  0.8416615037707937  +/-  0.011780081027623375 . Time:  18.36276936531067\n",
      "Soft test F1 score:  0.6905909107148147  +/-  0.012149342708924123 . Time:  18.36276936531067\n"
     ]
    }
   ],
   "source": [
    "scorer = make_scorer(lambda y_true, y_pred: f1_score(\n",
    "    y_true, y_pred, \n",
    "    labels=None, \n",
    "    pos_label=0, \n",
    "    average='binary', \n",
    "    sample_weight=None))\n",
    "\n",
    "cv = ShuffleSplit(n_splits=4, test_size=0.2, random_state=0)\n",
    "\n",
    "start_hard = time.time()\n",
    "## Hard\n",
    "train_sizes_hard, train_scores_hard, test_scores_hard, fit_times_hard, _ = \\\n",
    "    learning_curve(eclf_hard, X, Y, cv=cv, n_jobs=-1,\n",
    "                   train_sizes=[.2],\n",
    "                   return_times=True, scoring=scorer)\n",
    "end_hard = time.time()\n",
    "\n",
    "start_soft = time.time()\n",
    "## Soft \n",
    "train_sizes_soft, train_scores_soft, test_scores_soft, fit_times_soft, _ = \\\n",
    "    learning_curve(eclf_soft, X, Y, cv=cv, n_jobs=-1,\n",
    "                   train_sizes=[.2],\n",
    "                   return_times=True, scoring=scorer)\n",
    "end_soft = time.time()\n",
    "\n",
    "print('Hard train F1 score: ', np.mean(train_scores_hard), ' +/- ', np.std(train_scores_hard), \". Time: \", end_hard - start_hard)\n",
    "print('Hard test F1 score: ', np.mean(test_scores_hard), ' +/- ', np.std(test_scores_hard), \". Time: \", end_hard - start_hard)\n",
    "\n",
    "print('Soft train F1 score: ', np.mean(train_scores_soft), ' +/- ', np.std(train_scores_soft), \". Time: \", end_soft - start_soft)\n",
    "print('Soft test F1 score: ', np.mean(test_scores_soft), ' +/- ', np.std(test_scores_soft), \". Time: \", end_soft - start_soft)"
   ]
  },
  {
   "cell_type": "code",
   "execution_count": null,
   "metadata": {},
   "outputs": [],
   "source": []
  }
 ],
 "metadata": {
  "kernelspec": {
   "display_name": "Python 3",
   "language": "python",
   "name": "python3"
  },
  "language_info": {
   "codemirror_mode": {
    "name": "ipython",
    "version": 3
   },
   "file_extension": ".py",
   "mimetype": "text/x-python",
   "name": "python",
   "nbconvert_exporter": "python",
   "pygments_lexer": "ipython3",
   "version": "3.7.4"
  }
 },
 "nbformat": 4,
 "nbformat_minor": 2
}
